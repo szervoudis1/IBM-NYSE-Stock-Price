{
 "cells": [
  {
   "cell_type": "markdown",
   "metadata": {},
   "source": [
    "# Ερώτημα 1\n",
    "\n",
    "### Να κατεβάσετε από το σύνδεσμο https://finance.yahoo.com/quote/IBM/history?p=IBM τις τιμές μετοχών της IBM για το χρονικό διάστημα από 03/01/1962 έως σήμερα.\n",
    "------------------------------------------------------------------------------------------------------------------------------"
   ]
  },
  {
   "cell_type": "code",
   "execution_count": 1,
   "metadata": {},
   "outputs": [],
   "source": [
    "import pandas as pd\n",
    "from scipy.stats import norm\n",
    "import matplotlib.pyplot as plt\n",
    "import numpy as np"
   ]
  },
  {
   "cell_type": "code",
   "execution_count": 2,
   "metadata": {},
   "outputs": [
    {
     "data": {
      "text/html": [
       "<div>\n",
       "<style scoped>\n",
       "    .dataframe tbody tr th:only-of-type {\n",
       "        vertical-align: middle;\n",
       "    }\n",
       "\n",
       "    .dataframe tbody tr th {\n",
       "        vertical-align: top;\n",
       "    }\n",
       "\n",
       "    .dataframe thead th {\n",
       "        text-align: right;\n",
       "    }\n",
       "</style>\n",
       "<table border=\"1\" class=\"dataframe\">\n",
       "  <thead>\n",
       "    <tr style=\"text-align: right;\">\n",
       "      <th></th>\n",
       "      <th>Date</th>\n",
       "      <th>Open</th>\n",
       "      <th>High</th>\n",
       "      <th>Low</th>\n",
       "      <th>Close</th>\n",
       "      <th>Adj Close</th>\n",
       "      <th>Volume</th>\n",
       "    </tr>\n",
       "  </thead>\n",
       "  <tbody>\n",
       "    <tr>\n",
       "      <th>0</th>\n",
       "      <td>1962-01-03</td>\n",
       "      <td>7.626667</td>\n",
       "      <td>7.693333</td>\n",
       "      <td>7.626667</td>\n",
       "      <td>7.693333</td>\n",
       "      <td>1.867095</td>\n",
       "      <td>288000</td>\n",
       "    </tr>\n",
       "    <tr>\n",
       "      <th>1</th>\n",
       "      <td>1962-01-04</td>\n",
       "      <td>7.693333</td>\n",
       "      <td>7.693333</td>\n",
       "      <td>7.613333</td>\n",
       "      <td>7.616667</td>\n",
       "      <td>1.848488</td>\n",
       "      <td>256000</td>\n",
       "    </tr>\n",
       "    <tr>\n",
       "      <th>2</th>\n",
       "      <td>1962-01-05</td>\n",
       "      <td>7.606667</td>\n",
       "      <td>7.606667</td>\n",
       "      <td>7.453333</td>\n",
       "      <td>7.466667</td>\n",
       "      <td>1.812086</td>\n",
       "      <td>363200</td>\n",
       "    </tr>\n",
       "    <tr>\n",
       "      <th>3</th>\n",
       "      <td>1962-01-08</td>\n",
       "      <td>7.460000</td>\n",
       "      <td>7.460000</td>\n",
       "      <td>7.266667</td>\n",
       "      <td>7.326667</td>\n",
       "      <td>1.778110</td>\n",
       "      <td>544000</td>\n",
       "    </tr>\n",
       "    <tr>\n",
       "      <th>4</th>\n",
       "      <td>1962-01-09</td>\n",
       "      <td>7.360000</td>\n",
       "      <td>7.506667</td>\n",
       "      <td>7.360000</td>\n",
       "      <td>7.413333</td>\n",
       "      <td>1.799143</td>\n",
       "      <td>491200</td>\n",
       "    </tr>\n",
       "  </tbody>\n",
       "</table>\n",
       "</div>"
      ],
      "text/plain": [
       "         Date      Open      High       Low     Close  Adj Close  Volume\n",
       "0  1962-01-03  7.626667  7.693333  7.626667  7.693333   1.867095  288000\n",
       "1  1962-01-04  7.693333  7.693333  7.613333  7.616667   1.848488  256000\n",
       "2  1962-01-05  7.606667  7.606667  7.453333  7.466667   1.812086  363200\n",
       "3  1962-01-08  7.460000  7.460000  7.266667  7.326667   1.778110  544000\n",
       "4  1962-01-09  7.360000  7.506667  7.360000  7.413333   1.799143  491200"
      ]
     },
     "execution_count": 2,
     "metadata": {},
     "output_type": "execute_result"
    }
   ],
   "source": [
    "# reading csv file \n",
    "df = pd.read_csv(\"IBM.csv\",sep=\",\")\n",
    "df.head()"
   ]
  },
  {
   "cell_type": "markdown",
   "metadata": {},
   "source": [
    "# Ερώτημα 2\n",
    "\n",
    "### Βρείτε την εκατοστιαία ημερήσια διακύμανση της μετοχής :\n",
    "### 100*(Τιμή Κλεισίματος –Τιμή Ανοίγματος) / Τιμή Ανοίγματος \n",
    "### και να την προσθέσετε ως καινούργια στήλη σε ένα νέο excel που θα κατασκευάσετε και θα περιέχει το σύνολο των υπολοίπων στηλών του αρχείου που κατεβάσατε\n",
    "\n",
    "-------------------------------------------------------------------------------------------------------------------------------\n"
   ]
  },
  {
   "cell_type": "code",
   "execution_count": 3,
   "metadata": {},
   "outputs": [],
   "source": [
    "df[\"Day_Var\"] = ((df[\"Close\"] - df[\"Open\"]) / df[\"Open\"])* 100\n",
    "\n",
    "writer = pd.ExcelWriter('New Data.xlsx')\n",
    "df.to_excel(writer, sheet_name = 'Day Var' , index = False)\n",
    "writer.save()"
   ]
  },
  {
   "cell_type": "code",
   "execution_count": 4,
   "metadata": {},
   "outputs": [
    {
     "data": {
      "text/html": [
       "<div>\n",
       "<style scoped>\n",
       "    .dataframe tbody tr th:only-of-type {\n",
       "        vertical-align: middle;\n",
       "    }\n",
       "\n",
       "    .dataframe tbody tr th {\n",
       "        vertical-align: top;\n",
       "    }\n",
       "\n",
       "    .dataframe thead th {\n",
       "        text-align: right;\n",
       "    }\n",
       "</style>\n",
       "<table border=\"1\" class=\"dataframe\">\n",
       "  <thead>\n",
       "    <tr style=\"text-align: right;\">\n",
       "      <th></th>\n",
       "      <th>Date</th>\n",
       "      <th>Open</th>\n",
       "      <th>High</th>\n",
       "      <th>Low</th>\n",
       "      <th>Close</th>\n",
       "      <th>Adj Close</th>\n",
       "      <th>Volume</th>\n",
       "      <th>Day_Var</th>\n",
       "    </tr>\n",
       "  </thead>\n",
       "  <tbody>\n",
       "    <tr>\n",
       "      <th>0</th>\n",
       "      <td>1962-01-03</td>\n",
       "      <td>7.626667</td>\n",
       "      <td>7.693333</td>\n",
       "      <td>7.626667</td>\n",
       "      <td>7.693333</td>\n",
       "      <td>1.867095</td>\n",
       "      <td>288000</td>\n",
       "      <td>0.874117</td>\n",
       "    </tr>\n",
       "    <tr>\n",
       "      <th>1</th>\n",
       "      <td>1962-01-04</td>\n",
       "      <td>7.693333</td>\n",
       "      <td>7.693333</td>\n",
       "      <td>7.613333</td>\n",
       "      <td>7.616667</td>\n",
       "      <td>1.848488</td>\n",
       "      <td>256000</td>\n",
       "      <td>-0.996525</td>\n",
       "    </tr>\n",
       "    <tr>\n",
       "      <th>2</th>\n",
       "      <td>1962-01-05</td>\n",
       "      <td>7.606667</td>\n",
       "      <td>7.606667</td>\n",
       "      <td>7.453333</td>\n",
       "      <td>7.466667</td>\n",
       "      <td>1.812086</td>\n",
       "      <td>363200</td>\n",
       "      <td>-1.840491</td>\n",
       "    </tr>\n",
       "    <tr>\n",
       "      <th>3</th>\n",
       "      <td>1962-01-08</td>\n",
       "      <td>7.460000</td>\n",
       "      <td>7.460000</td>\n",
       "      <td>7.266667</td>\n",
       "      <td>7.326667</td>\n",
       "      <td>1.778110</td>\n",
       "      <td>544000</td>\n",
       "      <td>-1.787306</td>\n",
       "    </tr>\n",
       "    <tr>\n",
       "      <th>4</th>\n",
       "      <td>1962-01-09</td>\n",
       "      <td>7.360000</td>\n",
       "      <td>7.506667</td>\n",
       "      <td>7.360000</td>\n",
       "      <td>7.413333</td>\n",
       "      <td>1.799143</td>\n",
       "      <td>491200</td>\n",
       "      <td>0.724633</td>\n",
       "    </tr>\n",
       "  </tbody>\n",
       "</table>\n",
       "</div>"
      ],
      "text/plain": [
       "         Date      Open      High       Low     Close  Adj Close  Volume  \\\n",
       "0  1962-01-03  7.626667  7.693333  7.626667  7.693333   1.867095  288000   \n",
       "1  1962-01-04  7.693333  7.693333  7.613333  7.616667   1.848488  256000   \n",
       "2  1962-01-05  7.606667  7.606667  7.453333  7.466667   1.812086  363200   \n",
       "3  1962-01-08  7.460000  7.460000  7.266667  7.326667   1.778110  544000   \n",
       "4  1962-01-09  7.360000  7.506667  7.360000  7.413333   1.799143  491200   \n",
       "\n",
       "    Day_Var  \n",
       "0  0.874117  \n",
       "1 -0.996525  \n",
       "2 -1.840491  \n",
       "3 -1.787306  \n",
       "4  0.724633  "
      ]
     },
     "execution_count": 4,
     "metadata": {},
     "output_type": "execute_result"
    }
   ],
   "source": [
    "pd.read_excel('New Data.xlsx', index_col=0)\n",
    "df.head()"
   ]
  },
  {
   "cell_type": "markdown",
   "metadata": {},
   "source": [
    "# Ερώτημα 3\n",
    "\n",
    "### Να κατασκευάσετε ένα ιστόγραμμα το οποίο στον οριζόντιο άξονα θα έχει την εκατοστιαία ημερήσια διακύμανση (βήμα = 0.1%)και στον κατακόρυφο το πλήθος των ημερών κατά τις οποίες παρατηρήθηκε η παραπάνω διακύμανση. Στο ίδιο διάγραμμα να απεικονίζονται οι μέγιστες και ελάχιστες τιμές διακύμανσης και η τελευταία ημερομηνία στις οποίες παρατηρήθηκαν αυτές."
   ]
  },
  {
   "cell_type": "code",
   "execution_count": 5,
   "metadata": {},
   "outputs": [
    {
     "data": {
      "text/plain": [
       "0        1962-01-03\n",
       "1        1962-01-04\n",
       "2        1962-01-05\n",
       "3        1962-01-08\n",
       "4        1962-01-09\n",
       "            ...    \n",
       "14831    2020-12-02\n",
       "14832    2020-12-03\n",
       "14833    2020-12-04\n",
       "14834    2020-12-07\n",
       "14835    2020-12-08\n",
       "Name: Date, Length: 14836, dtype: object"
      ]
     },
     "execution_count": 5,
     "metadata": {},
     "output_type": "execute_result"
    }
   ],
   "source": [
    "Date = df['Date']\n",
    "Date"
   ]
  },
  {
   "cell_type": "code",
   "execution_count": 6,
   "metadata": {},
   "outputs": [
    {
     "data": {
      "text/plain": [
       "0        0.874117\n",
       "1       -0.996525\n",
       "2       -1.840491\n",
       "3       -1.787306\n",
       "4        0.724633\n",
       "           ...   \n",
       "14831    1.440786\n",
       "14832   -0.442979\n",
       "14833    2.605466\n",
       "14834   -1.415132\n",
       "14835    0.311203\n",
       "Name: Day_Var, Length: 14836, dtype: float64"
      ]
     },
     "execution_count": 6,
     "metadata": {},
     "output_type": "execute_result"
    }
   ],
   "source": [
    "Day_Var = df['Day_Var']\n",
    "Day_Var"
   ]
  },
  {
   "cell_type": "code",
   "execution_count": 7,
   "metadata": {},
   "outputs": [
    {
     "data": {
      "text/html": [
       "<div>\n",
       "<style scoped>\n",
       "    .dataframe tbody tr th:only-of-type {\n",
       "        vertical-align: middle;\n",
       "    }\n",
       "\n",
       "    .dataframe tbody tr th {\n",
       "        vertical-align: top;\n",
       "    }\n",
       "\n",
       "    .dataframe thead th {\n",
       "        text-align: right;\n",
       "    }\n",
       "</style>\n",
       "<table border=\"1\" class=\"dataframe\">\n",
       "  <thead>\n",
       "    <tr style=\"text-align: right;\">\n",
       "      <th></th>\n",
       "      <th>Date</th>\n",
       "      <th>Day_Var</th>\n",
       "    </tr>\n",
       "  </thead>\n",
       "  <tbody>\n",
       "    <tr>\n",
       "      <th>0</th>\n",
       "      <td>1962-01-03</td>\n",
       "      <td>0.874117</td>\n",
       "    </tr>\n",
       "    <tr>\n",
       "      <th>1</th>\n",
       "      <td>1962-01-04</td>\n",
       "      <td>-0.996525</td>\n",
       "    </tr>\n",
       "    <tr>\n",
       "      <th>2</th>\n",
       "      <td>1962-01-05</td>\n",
       "      <td>-1.840491</td>\n",
       "    </tr>\n",
       "    <tr>\n",
       "      <th>3</th>\n",
       "      <td>1962-01-08</td>\n",
       "      <td>-1.787306</td>\n",
       "    </tr>\n",
       "    <tr>\n",
       "      <th>4</th>\n",
       "      <td>1962-01-09</td>\n",
       "      <td>0.724633</td>\n",
       "    </tr>\n",
       "    <tr>\n",
       "      <th>...</th>\n",
       "      <td>...</td>\n",
       "      <td>...</td>\n",
       "    </tr>\n",
       "    <tr>\n",
       "      <th>14831</th>\n",
       "      <td>2020-12-02</td>\n",
       "      <td>1.440786</td>\n",
       "    </tr>\n",
       "    <tr>\n",
       "      <th>14832</th>\n",
       "      <td>2020-12-03</td>\n",
       "      <td>-0.442979</td>\n",
       "    </tr>\n",
       "    <tr>\n",
       "      <th>14833</th>\n",
       "      <td>2020-12-04</td>\n",
       "      <td>2.605466</td>\n",
       "    </tr>\n",
       "    <tr>\n",
       "      <th>14834</th>\n",
       "      <td>2020-12-07</td>\n",
       "      <td>-1.415132</td>\n",
       "    </tr>\n",
       "    <tr>\n",
       "      <th>14835</th>\n",
       "      <td>2020-12-08</td>\n",
       "      <td>0.311203</td>\n",
       "    </tr>\n",
       "  </tbody>\n",
       "</table>\n",
       "<p>14836 rows × 2 columns</p>\n",
       "</div>"
      ],
      "text/plain": [
       "             Date   Day_Var\n",
       "0      1962-01-03  0.874117\n",
       "1      1962-01-04 -0.996525\n",
       "2      1962-01-05 -1.840491\n",
       "3      1962-01-08 -1.787306\n",
       "4      1962-01-09  0.724633\n",
       "...           ...       ...\n",
       "14831  2020-12-02  1.440786\n",
       "14832  2020-12-03 -0.442979\n",
       "14833  2020-12-04  2.605466\n",
       "14834  2020-12-07 -1.415132\n",
       "14835  2020-12-08  0.311203\n",
       "\n",
       "[14836 rows x 2 columns]"
      ]
     },
     "execution_count": 7,
     "metadata": {},
     "output_type": "execute_result"
    }
   ],
   "source": [
    "df1 = pd.DataFrame({'Date':Date , 'Day_Var': Day_Var})\n",
    "df1\n"
   ]
  },
  {
   "cell_type": "code",
   "execution_count": 8,
   "metadata": {},
   "outputs": [
    {
     "data": {
      "text/html": [
       "<div>\n",
       "<style scoped>\n",
       "    .dataframe tbody tr th:only-of-type {\n",
       "        vertical-align: middle;\n",
       "    }\n",
       "\n",
       "    .dataframe tbody tr th {\n",
       "        vertical-align: top;\n",
       "    }\n",
       "\n",
       "    .dataframe thead th {\n",
       "        text-align: right;\n",
       "    }\n",
       "</style>\n",
       "<table border=\"1\" class=\"dataframe\">\n",
       "  <thead>\n",
       "    <tr style=\"text-align: right;\">\n",
       "      <th></th>\n",
       "      <th>Date</th>\n",
       "    </tr>\n",
       "    <tr>\n",
       "      <th>Day_Var</th>\n",
       "      <th></th>\n",
       "    </tr>\n",
       "  </thead>\n",
       "  <tbody>\n",
       "    <tr>\n",
       "      <th>-23.518519</th>\n",
       "      <td>1</td>\n",
       "    </tr>\n",
       "    <tr>\n",
       "      <th>-9.850107</th>\n",
       "      <td>1</td>\n",
       "    </tr>\n",
       "    <tr>\n",
       "      <th>-9.737418</th>\n",
       "      <td>1</td>\n",
       "    </tr>\n",
       "    <tr>\n",
       "      <th>-9.068009</th>\n",
       "      <td>1</td>\n",
       "    </tr>\n",
       "    <tr>\n",
       "      <th>-8.434959</th>\n",
       "      <td>1</td>\n",
       "    </tr>\n",
       "    <tr>\n",
       "      <th>...</th>\n",
       "      <td>...</td>\n",
       "    </tr>\n",
       "    <tr>\n",
       "      <th>7.942708</th>\n",
       "      <td>1</td>\n",
       "    </tr>\n",
       "    <tr>\n",
       "      <th>8.490566</th>\n",
       "      <td>1</td>\n",
       "    </tr>\n",
       "    <tr>\n",
       "      <th>8.986936</th>\n",
       "      <td>1</td>\n",
       "    </tr>\n",
       "    <tr>\n",
       "      <th>11.657303</th>\n",
       "      <td>1</td>\n",
       "    </tr>\n",
       "    <tr>\n",
       "      <th>12.985075</th>\n",
       "      <td>1</td>\n",
       "    </tr>\n",
       "  </tbody>\n",
       "</table>\n",
       "<p>13022 rows × 1 columns</p>\n",
       "</div>"
      ],
      "text/plain": [
       "            Date\n",
       "Day_Var         \n",
       "-23.518519     1\n",
       "-9.850107      1\n",
       "-9.737418      1\n",
       "-9.068009      1\n",
       "-8.434959      1\n",
       "...          ...\n",
       " 7.942708      1\n",
       " 8.490566      1\n",
       " 8.986936      1\n",
       " 11.657303     1\n",
       " 12.985075     1\n",
       "\n",
       "[13022 rows x 1 columns]"
      ]
     },
     "execution_count": 8,
     "metadata": {},
     "output_type": "execute_result"
    }
   ],
   "source": [
    "count = df1.groupby('Day_Var').count()\n",
    "count"
   ]
  },
  {
   "cell_type": "code",
   "execution_count": 9,
   "metadata": {},
   "outputs": [
    {
     "name": "stdout",
     "output_type": "stream",
     "text": [
      "Date    517\n",
      "dtype: int64\n"
     ]
    }
   ],
   "source": [
    "print(count.max())"
   ]
  },
  {
   "cell_type": "code",
   "execution_count": 10,
   "metadata": {},
   "outputs": [
    {
     "name": "stdout",
     "output_type": "stream",
     "text": [
      "             Date   Day_Var\n",
      "0      1962-01-03  0.874117\n",
      "1      1962-01-04 -0.996525\n",
      "2      1962-01-05 -1.840491\n",
      "3      1962-01-08 -1.787306\n",
      "4      1962-01-09  0.724633\n",
      "...           ...       ...\n",
      "14831  2020-12-02  1.440786\n",
      "14832  2020-12-03 -0.442979\n",
      "14833  2020-12-04  2.605466\n",
      "14834  2020-12-07 -1.415132\n",
      "14835  2020-12-08  0.311203\n",
      "\n",
      "[14836 rows x 2 columns]\n",
      "            Date\n",
      "Day_Var         \n",
      "-23.518519     1\n",
      "-9.850107      1\n",
      "-9.737418      1\n",
      "-9.068009      1\n",
      "-8.434959      1\n",
      "...          ...\n",
      " 7.942708      1\n",
      " 8.490566      1\n",
      " 8.986936      1\n",
      " 11.657303     1\n",
      " 12.985075     1\n",
      "\n",
      "[13022 rows x 1 columns]\n",
      "\n",
      "---------------------------------------\n",
      "\n",
      " Day Counter / var :  Date    517\n",
      "dtype: int64\n",
      "\n",
      " H τελευταία μέρα που πουρουσιάστηκε η μεγαλύτερη διακύμαση είχε ημ/νία και τιμή :['2001-01-03', 12.985074626865673]\n",
      "\n",
      " H τελευταία μέρα που πουρουσιάστηκε η μικρότερη διακύμαση είχε ημ/νία και τιμή :['1987-10-19', -23.51851851851852]\n"
     ]
    },
    {
     "data": {
      "text/plain": [
       "Text(20, 200, 'Last Day MaxVar:2001-01-03\\n\\nLast Day MinVar:1987-10-19')"
      ]
     },
     "execution_count": 10,
     "metadata": {},
     "output_type": "execute_result"
    },
    {
     "data": {
      "text/plain": [
       "<Figure size 1224x360 with 0 Axes>"
      ]
     },
     "metadata": {},
     "output_type": "display_data"
    },
    {
     "data": {
      "image/png": "[encoded data removed]",
      "text/plain": [
       "<Figure size 432x288 with 1 Axes>"
      ]
     },
     "metadata": {
      "needs_background": "light"
     },
     "output_type": "display_data"
    }
   ],
   "source": [
    "Date = df1['Date']  \n",
    "Day_Var = df1['Day_Var']    \n",
    "    \n",
    "df1 = pd.DataFrame({'Date':Date , 'Day_Var': Day_Var})\n",
    "print(df1)\n",
    "    \n",
    "count = df1.groupby('Day_Var').count()\n",
    "print(count)\n",
    "print(\"\\n---------------------------------------\\n\\n Day Counter / var : \",count.max())\n",
    "\n",
    "plt.figure(figsize=(17,5))\n",
    "plot = df1.groupby('Day_Var').count().plot()\n",
    "plot\n",
    "bins = (df1['Day_Var'].max() - df1['Day_Var'].min()) * 10\n",
    "bins = int(bins)\n",
    "        \n",
    "xmin,xmax = plt.xlim()\n",
    "xmax = df1[\"Day_Var\"].max()\n",
    "xmin = df1[\"Day_Var\"].min()\n",
    "max_day = list(df1.iloc[df1['Day_Var'].argmax()])\n",
    "min_day = list(df1.iloc[df1['Day_Var'].argmin()])\n",
    "\n",
    "print(f'\\n H τελευταία μέρα που πουρουσιάστηκε η μεγαλύτερη διακύμαση είχε ημ/νία και τιμή :{max_day}')\n",
    "print(f'\\n H τελευταία μέρα που πουρουσιάστηκε η μικρότερη διακύμαση είχε ημ/νία και τιμή :{min_day}')\n",
    "\n",
    "plt.annotate(f'Xmax={round(xmax,3)}', xy=(xmax,0), xytext=(5, 150), fontsize=10,\\\n",
    "             arrowprops={'width':0.3,'headwidth':5,'color':'#333333'})\n",
    "\n",
    "plt.annotate(f'Xmin={round(xmin,3)}', xy=(xmin,0), xytext=(-20, 150), fontsize=10,\\\n",
    "             arrowprops={'width':0.3,'headwidth':5,'color':'#333333'})\n",
    "\n",
    "max_day = list(df1.iloc[df1['Day_Var'].argmax()])\n",
    "min_day = list(df1.iloc[df1['Day_Var'].argmin()])\n",
    "plt.text(20,200,\"Last Day MaxVar:\" + max_day[0] +\"\\n\" + \"\\nLast Day MinVar:\"+ min_day[0],fontsize=15)"
   ]
  },
  {
   "cell_type": "markdown",
   "metadata": {},
   "source": [
    "# Ερώτημα 4\n",
    "\n",
    "### Να κατασκευάσετε ένα μοντέλο που αντιστοιχεί στην παραπάνω κατανομή και να απεικονίσετε την κατανομή του μοντέλου στο ίδιο ιστόγραμμα. Διαλέξτε την καταλληλότερη κατανομή για τα δεδομένα σας."
   ]
  },
  {
   "cell_type": "code",
   "execution_count": 11,
   "metadata": {},
   "outputs": [
    {
     "name": "stdout",
     "output_type": "stream",
     "text": [
      "\n",
      " mean = 0.018054210248197623 & std = 1.3374221601476104\n",
      "\n",
      " H τελευταία μέρα που πουρουσιάστηκε η μεγαλύτερη διακύμαση είχε ημ/νία και τιμή :['2001-01-03', 83.75, 95.0, 83.75, 94.625, 59.501056999999996, 12769900, 12.985074626865673]\n",
      "\n",
      " H τελευταία μέρα που πουρουσιάστηκε η μικρότερη διακύμαση είχε ημ/νία και τιμή :['1987-10-19', 33.75, 34.5, 25.0, 25.8125, 11.62007, 25497600, -23.51851851851852]\n"
     ]
    },
    {
     "data": {
      "text/plain": [
       "Text(-20, 0.4, 'Last Date MaxVar:2001-01-03\\n\\nLast Date of MinVar:1987-10-19')"
      ]
     },
     "execution_count": 11,
     "metadata": {},
     "output_type": "execute_result"
    },
    {
     "data": {
      "image/png": "[encoded data removed]",
      "text/plain": [
       "<Figure size 1224x360 with 1 Axes>"
      ]
     },
     "metadata": {
      "needs_background": "light"
     },
     "output_type": "display_data"
    }
   ],
   "source": [
    "mean, std= norm.fit(Day_Var)\n",
    "print(f'\\n mean = {mean} & std = {std}')\n",
    "    \n",
    "mean, std= norm.fit(df1[\"Day_Var\"])\n",
    "plt.figure(figsize=(17,5))\n",
    "plt.hist(df['Day_Var'], bins=bins, density=True, alpha=0.3, color='r',linewidth=4)\n",
    "x = np.linspace(xmin, xmax, 100)\n",
    "p = norm.pdf(x, mean, std)\n",
    "plt.plot(x, p, 'k', linewidth=2)\n",
    "title = \" IBM Rates - Year : {1962 - 2020} \\nIBM Fit results: mean = %.4f, std= %.4f\" % (mean, std)\n",
    "#plt.savefig(' histogram - 2.png', dpi=300)\n",
    "plt.title(title)\n",
    "\n",
    "xmin,xmax = plt.xlim()\n",
    "xmax = df[\"Day_Var\"].max()\n",
    "xmin = df[\"Day_Var\"].min()\n",
    "max_day = list(df.iloc[df['Day_Var'].argmax()])\n",
    "min_day = list(df.iloc[df['Day_Var'].argmin()])\n",
    "\n",
    "print(f'\\n H τελευταία μέρα που πουρουσιάστηκε η μεγαλύτερη διακύμαση είχε ημ/νία και τιμή :{max_day}')\n",
    "print(f'\\n H τελευταία μέρα που πουρουσιάστηκε η μικρότερη διακύμαση είχε ημ/νία και τιμή :{min_day}')\n",
    "\n",
    "plt.annotate(f'Xmax={round(xmax,3)}', xy=(xmax,0), xytext=(5, 0.2), fontsize=15, arrowprops={'width':0.3,'headwidth':5,'color':'#333333'})\n",
    "plt.annotate(f'Xmin={round(xmin,3)}', xy=(xmin,0), xytext=(-20, 0.2), fontsize=15, arrowprops={'width':0.3,'headwidth':5,'color':'#333333'})\n",
    "\n",
    "\n",
    "max_day = list(df.iloc[df['Day_Var'].argmax()])\n",
    "min_day = list(df.iloc[df['Day_Var'].argmin()])\n",
    "plt.text(-20,0.4,\"Last Date MaxVar:\" + max_day[0] +\"\\n\" + \"\\nLast Date of MinVar:\"+ min_day[0],fontsize=15)"
   ]
  },
  {
   "cell_type": "markdown",
   "metadata": {},
   "source": [
    "# Ερώτημα 5\n",
    "\n",
    "### Αυτοματοποιήστε την παραπάνω διαδικασία ώστε το πρόγραμμα σας να δέχεται σαν είσοδο το όνομα μιας μετοχής και να πραγματοποιεί αυτόματα την παραπάνω αναζήτηση στο δίκτυο και την ανάλυση (μπορείτε να χρησιμοποιήσετε οποιαδήποτε έγκυρη δικτυακή πηγή για τις τιμές των μετοχών)\n",
    "-------------------------------------------------------------------------------------------------------------------------------"
   ]
  },
  {
   "cell_type": "markdown",
   "metadata": {},
   "source": [
    "#### We will download IBM Stock Rates from YAHOO for the Years: {1980 - 2020} \n",
    "-------------------------------------------------------------------------------------------------------------------------------"
   ]
  },
  {
   "cell_type": "code",
   "execution_count": 12,
   "metadata": {},
   "outputs": [],
   "source": [
    "import pandas as pd\n",
    "import pandas_datareader.data as web\n",
    "import datetime\n",
    "import numpy as np\n",
    "import matplotlib.pyplot as plt\n",
    "from scipy.stats import norm"
   ]
  },
  {
   "cell_type": "code",
   "execution_count": 13,
   "metadata": {},
   "outputs": [
    {
     "name": "stdout",
     "output_type": "stream",
     "text": [
      "\n",
      "---------------------------------------------\n",
      "*** Please fill find below IBM or S&P500 Stock Rates {1980 - 2020}\n",
      "---------------------------------------------\n",
      " \n",
      "Insert a Stock - Name :SPY\n",
      "\n",
      "---------------------------------------------\n",
      "*** Please wait few sec for the downloading of the data\n",
      "---------------------------------------------\n",
      " \n",
      "\n",
      " SPY - Rates.csv has been downloaded correctly !!!\n"
     ]
    }
   ],
   "source": [
    "start = datetime.datetime(1980,1,1)\n",
    "stop = datetime.datetime(2020,1,1)\n",
    "\n",
    "print(\"\\n---------------------------------------------\\n\\\n",
    "*** Please fill find below IBM or S&P500 Stock Rates {1980 - 2020}\\\n",
    "\\n---------------------------------------------\\n \")\n",
    "\n",
    "Stock_name = input(\"Insert a Stock - Name :\")\n",
    "\n",
    "print(\"\\n---------------------------------------------\\n\\\n",
    "*** Please wait few sec for the downloading of the data\\\n",
    "\\n---------------------------------------------\\n \")\n",
    "\n",
    "while Stock_name != 'IBM'and Stock_name != 'SPY' :\n",
    "    Stock_name = input(\"Insert a stock :\")\n",
    "\n",
    "if  Stock_name == 'IBM':\n",
    "   \n",
    "    df1 = web.DataReader(\"IBM\",'yahoo',start,stop)\n",
    "    df1.to_csv('IBM - Rates.csv')\n",
    "    print(\"\\n------- IBM - Rates.csv has been downloaded correctly ! -------\")\n",
    "    \n",
    "     \n",
    "        \n",
    "    df1 = pd.read_csv('IBM - Rates.csv',sep=\",\")\n",
    "    df1.head() \n",
    "    \n",
    "    \n",
    "        \n",
    "    df1[\"Day_Var\"] = ((df1[\"Close\"] - df1[\"Open\"]) / df1[\"Open\"])* 100\n",
    "    # df1[\"Day_Var\"] = ((df1[\"Open\"] - df1[\"Close\"]) / df1[\"Open\"])* 100\n",
    "\n",
    "    writer = pd.ExcelWriter('New Data IBM.xlsx')\n",
    "    df1.to_excel(writer, sheet_name = 'Day Var' , index = False)\n",
    "    writer.save()    \n",
    "     \n",
    "    pd.read_excel('New Data IBM.xlsx', index_col=0)\n",
    "    df1.head()\n",
    "\n",
    "elif  Stock_name == 'SPY':\n",
    "   \n",
    "    df1 = web.DataReader(\"SPY\",'yahoo',start,stop)\n",
    "    df1.to_csv('SPY - Rates.csv')\n",
    "    print(\"\\n SPY - Rates.csv has been downloaded correctly !!!\")\n",
    "    \n",
    "     \n",
    "        \n",
    "    df1 = pd.read_csv('SPY - Rates.csv',sep=\",\")\n",
    "    df1.head() \n",
    "    \n",
    "    \n",
    "        \n",
    "    df1[\"Day_Var\"] = ((df1[\"Close\"] - df1[\"Open\"]) / df1[\"Open\"])* 100\n",
    "    # df1[\"Day_Var\"] = ((df1[\"Open\"] - df1[\"Close\"]) / df1[\"Open\"])* 100\n",
    "\n",
    "    writer = pd.ExcelWriter('New Data SPY.xlsx')\n",
    "    df1.to_excel(writer, sheet_name = 'Day Var' , index = False)\n",
    "    writer.save()    \n",
    "     \n",
    "    pd.read_excel('New Data SPY.xlsx', index_col=0)\n",
    "    df1.head()        "
   ]
  },
  {
   "cell_type": "code",
   "execution_count": 14,
   "metadata": {},
   "outputs": [
    {
     "name": "stdout",
     "output_type": "stream",
     "text": [
      "            Date   Day_Var\n",
      "0     1993-01-29 -0.071073\n",
      "1     1993-02-01  0.639659\n",
      "2     1993-02-02  0.282686\n",
      "3     1993-02-03  0.914849\n",
      "4     1993-02-04  0.069493\n",
      "...          ...       ...\n",
      "6775  2019-12-24 -0.074654\n",
      "6776  2019-12-26  0.401060\n",
      "6777  2019-12-27 -0.271825\n",
      "6778  2019-12-30 -0.579045\n",
      "6779  2019-12-31  0.414934\n",
      "\n",
      "[6780 rows x 2 columns]\n",
      "           Date\n",
      "Day_Var        \n",
      "-8.990574     1\n",
      "-7.633904     1\n",
      "-7.469880     1\n",
      "-6.513347     1\n",
      "-6.374015     1\n",
      "...         ...\n",
      " 5.851621     1\n",
      " 7.350591     1\n",
      " 7.968462     1\n",
      " 8.434666     1\n",
      " 9.296296     1\n",
      "\n",
      "[6656 rows x 1 columns]\n",
      "\n",
      "---------------------------------------\n",
      "\n",
      " Day Counter / var :  Date    82\n",
      "dtype: int64\n",
      "\n",
      " H τελευταία μέρα που πουρουσιάστηκε η μεγαλύτερη διακύμαση είχε ημ/νία και τιμή :['1997-10-28', 9.296296296296298]\n",
      "\n",
      " H τελευταία μέρα που πουρουσιάστηκε η μικρότερη διακύμαση είχε ημ/νία και τιμή :['2008-10-09', -8.990574337369564]\n"
     ]
    },
    {
     "data": {
      "text/plain": [
       "Text(0.5, 1.0, 'Histogram')"
      ]
     },
     "execution_count": 14,
     "metadata": {},
     "output_type": "execute_result"
    },
    {
     "data": {
      "image/png": "[encoded data removed]",
      "text/plain": [
       "<Figure size 432x288 with 1 Axes>"
      ]
     },
     "metadata": {
      "needs_background": "light"
     },
     "output_type": "display_data"
    }
   ],
   "source": [
    " \n",
    "    Date = df1['Date']  \n",
    "    Day_Var = df1['Day_Var']    \n",
    "    \n",
    "    df = pd.DataFrame({'Date':Date , 'Day_Var': Day_Var})\n",
    "    print(df)\n",
    "    \n",
    "    count = df.groupby('Day_Var').count()\n",
    "    print(count)\n",
    "    print(\"\\n---------------------------------------\\n\\n Day Counter / var : \",count.max())\n",
    "    \n",
    "      \n",
    "    plot = df.groupby('Day_Var').count().plot()\n",
    "    plot\n",
    "    bins = (df['Day_Var'].max() - df['Day_Var'].min()) * 10\n",
    "    \n",
    "    bins = int(bins)\n",
    "        \n",
    "    xmin,xmax = plt.xlim()\n",
    "    xmax = df[\"Day_Var\"].max()\n",
    "    xmin = df[\"Day_Var\"].min()\n",
    "    max_day = list(df.iloc[df['Day_Var'].argmax()])\n",
    "    min_day = list(df.iloc[df['Day_Var'].argmin()])\n",
    "\n",
    "    print(f'\\n H τελευταία μέρα που πουρουσιάστηκε η μεγαλύτερη διακύμαση είχε ημ/νία και τιμή :{max_day}')\n",
    "    print(f'\\n H τελευταία μέρα που πουρουσιάστηκε η μικρότερη διακύμαση είχε ημ/νία και τιμή :{min_day}')\n",
    "     \n",
    "#     plt.annotate(f'Xmax={round(xmax,3)}', xy=(xmax,0), xytext=(5, 150), fontsize=15, arrowprops={'width':0.3,'headwidth':5,'color':'#333333'})\n",
    "#     plt.annotate(f'Xmin={round(xmin,3)}', xy=(xmin,0), xytext=(-20, 150), fontsize=15, arrowprops={'width':0.3,'headwidth':5,'color':'#333333'})\n",
    "    \n",
    "    \n",
    "\n",
    "    \n",
    "    max_day = list(df.iloc[df['Day_Var'].argmax()])\n",
    "    min_day = list(df.iloc[df['Day_Var'].argmin()])\n",
    "#     plt.text(-13,230,\"Last Date MaxVar:\" + max_day[0] +\"\\n\" + \"\\nLast Date of MinVar:\"+ min_day[0],fontsize=15)\n",
    "    plt.ylabel('Number of Days')\n",
    "    plt.xlabel('The Day_Var %')\n",
    "    plt.title('Histogram')\n"
   ]
  },
  {
   "cell_type": "code",
   "execution_count": 15,
   "metadata": {},
   "outputs": [
    {
     "name": "stdout",
     "output_type": "stream",
     "text": [
      "\n",
      " mean = 0.00270616970285257 & std = 0.9615378036160112\n",
      "\n",
      " H τελευταία μέρα που πουρουσιάστηκε η μεγαλύτερη διακύμαση είχε ημ/νία και τιμή :['1997-10-28', 9.296296296296298]\n",
      "\n",
      " H τελευταία μέρα που πουρουσιάστηκε η μικρότερη διακύμαση είχε ημ/νία και τιμή :['2008-10-09', -8.990574337369564]\n"
     ]
    },
    {
     "data": {
      "text/plain": [
       "Text(5, 0.4, 'Last Day MaxVar:1997-10-28\\n\\nLast Day MinVar:2008-10-09')"
      ]
     },
     "execution_count": 15,
     "metadata": {},
     "output_type": "execute_result"
    },
    {
     "data": {
      "image/png": "[encoded data removed]",
      "text/plain": [
       "<Figure size 1224x360 with 1 Axes>"
      ]
     },
     "metadata": {
      "needs_background": "light"
     },
     "output_type": "display_data"
    }
   ],
   "source": [
    "    # Normal Distribution Plot    \n",
    "\n",
    "    mean, std= norm.fit(Day_Var)\n",
    "    print(f'\\n mean = {mean} & std = {std}')\n",
    "    \n",
    "    mean, std= norm.fit(df1[\"Day_Var\"])\n",
    "    plt.figure(figsize=(17,5))\n",
    "    plt.hist(df['Day_Var'], bins=bins, density=True, alpha=0.3, color='r',linewidth=4)\n",
    "    x = np.linspace(xmin, xmax, 100)\n",
    "    p = norm.pdf(x, mean, std)\n",
    "    plt.plot(x, p, 'k', linewidth=2)\n",
    "    title = Stock_name + \" Fit results: mean = %.4f, std= %.4f\" % (mean, std)\n",
    "    #plt.savefig(' histogram - 2.png', dpi=300)\n",
    "    plt.title(title)\n",
    "\n",
    "    xmin,xmax = plt.xlim()\n",
    "    xmax = df[\"Day_Var\"].max()\n",
    "    xmin = df[\"Day_Var\"].min()\n",
    "    max_day = list(df.iloc[df['Day_Var'].argmax()])\n",
    "    min_day = list(df.iloc[df['Day_Var'].argmin()])\n",
    "\n",
    "    print(f'\\n H τελευταία μέρα που πουρουσιάστηκε η μεγαλύτερη διακύμαση είχε ημ/νία και τιμή :{max_day}')\n",
    "    print(f'\\n H τελευταία μέρα που πουρουσιάστηκε η μικρότερη διακύμαση είχε ημ/νία και τιμή :{min_day}')\n",
    "\n",
    "    plt.annotate(f'Xmax={round(xmax,3)}', xy=(xmax,0), xytext=(7, 0.2), fontsize=15, arrowprops={'width':0.3,'headwidth':5,'color':'#333333'})\n",
    "    plt.annotate(f'Xmin={round(xmin,3)}', xy=(xmin,0), xytext=(-7, 0.2), fontsize=15, arrowprops={'width':0.3,'headwidth':5,'color':'#333333'})\n",
    "\n",
    "\n",
    "    max_day = list(df.iloc[df['Day_Var'].argmax()])\n",
    "    min_day = list(df.iloc[df['Day_Var'].argmin()])\n",
    "    plt.text(5,0.4,\"Last Day MaxVar:\" + max_day[0] +\"\\n\" + \"\\nLast Day MinVar:\"+ min_day[0],fontsize=15)\n",
    "    "
   ]
  }
 ],
 "metadata": {
  "kernelspec": {
   "display_name": "Python 3",
   "language": "python",
   "name": "python3"
  },
  "language_info": {
   "codemirror_mode": {
    "name": "ipython",
    "version": 3
   },
   "file_extension": ".py",
   "mimetype": "text/x-python",
   "name": "python",
   "nbconvert_exporter": "python",
   "pygments_lexer": "ipython3",
   "version": "3.8.5"
  }
 },
 "nbformat": 4,
 "nbformat_minor": 4
}
