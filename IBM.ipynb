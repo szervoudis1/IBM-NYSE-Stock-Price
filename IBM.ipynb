{
  "nbformat": 4,
  "nbformat_minor": 0,
  "metadata": {
    "colab": {
      "name": "IBM.ipynb",
      "provenance": [],
      "collapsed_sections": [],
      "authorship_tag": "ABX9TyM5MRfoDtK6aJeq6kQ/O6wW",
      "include_colab_link": true
    },
    "kernelspec": {
      "name": "python3",
      "display_name": "Python 3"
    }
  },
  "cells": [
    {
      "cell_type": "markdown",
      "metadata": {
        "id": "view-in-github",
        "colab_type": "text"
      },
      "source": [
        "<a href=\"https://colab.research.google.com/github/szervoudis1/IBM-NYSE-Stock-Price/blob/main/IBM.ipynb\" target=\"_parent\"><img src=\"https://colab.research.google.com/assets/colab-badge.svg\" alt=\"Open In Colab\"/></a>"
      ]
    },
    {
      "cell_type": "code",
      "metadata": {
        "id": "4B4Z_PlbOOka"
      },
      "source": [
        "import pandas as pd\r\n",
        "import numpy as np\r\n",
        "import matplotlib.pyplot as plt\r\n",
        "from scipy.stats import norm\r\n",
        "import matplotlib.lines as mlines\r\n",
        "from google.colab import files\r\n",
        "#files.upload()"
      ],
      "execution_count": null,
      "outputs": []
    },
    {
      "cell_type": "code",
      "metadata": {
        "colab": {
          "base_uri": "https://localhost:8080/",
          "height": 198
        },
        "id": "DNoKDrpOPCQs",
        "outputId": "c42667a4-0f26-47f5-bc95-599ccbc5aec9"
      },
      "source": [
        "# Διαβάζουμε το αρχείο IBM.csv\r\n",
        "df = pd.read_csv(\"IBM.csv\",sep=\",\")\r\n",
        "df.head()"
      ],
      "execution_count": null,
      "outputs": [
        {
          "output_type": "execute_result",
          "data": {
            "text/html": [
              "<div>\n",
              "<style scoped>\n",
              "    .dataframe tbody tr th:only-of-type {\n",
              "        vertical-align: middle;\n",
              "    }\n",
              "\n",
              "    .dataframe tbody tr th {\n",
              "        vertical-align: top;\n",
              "    }\n",
              "\n",
              "    .dataframe thead th {\n",
              "        text-align: right;\n",
              "    }\n",
              "</style>\n",
              "<table border=\"1\" class=\"dataframe\">\n",
              "  <thead>\n",
              "    <tr style=\"text-align: right;\">\n",
              "      <th></th>\n",
              "      <th>Date</th>\n",
              "      <th>Open</th>\n",
              "      <th>High</th>\n",
              "      <th>Low</th>\n",
              "      <th>Close</th>\n",
              "      <th>Adj Close</th>\n",
              "      <th>Volume</th>\n",
              "    </tr>\n",
              "  </thead>\n",
              "  <tbody>\n",
              "    <tr>\n",
              "      <th>0</th>\n",
              "      <td>1962-01-03</td>\n",
              "      <td>7.626667</td>\n",
              "      <td>7.693333</td>\n",
              "      <td>7.626667</td>\n",
              "      <td>7.693333</td>\n",
              "      <td>1.867095</td>\n",
              "      <td>288000</td>\n",
              "    </tr>\n",
              "    <tr>\n",
              "      <th>1</th>\n",
              "      <td>1962-01-04</td>\n",
              "      <td>7.693333</td>\n",
              "      <td>7.693333</td>\n",
              "      <td>7.613333</td>\n",
              "      <td>7.616667</td>\n",
              "      <td>1.848488</td>\n",
              "      <td>256000</td>\n",
              "    </tr>\n",
              "    <tr>\n",
              "      <th>2</th>\n",
              "      <td>1962-01-05</td>\n",
              "      <td>7.606667</td>\n",
              "      <td>7.606667</td>\n",
              "      <td>7.453333</td>\n",
              "      <td>7.466667</td>\n",
              "      <td>1.812086</td>\n",
              "      <td>363200</td>\n",
              "    </tr>\n",
              "    <tr>\n",
              "      <th>3</th>\n",
              "      <td>1962-01-08</td>\n",
              "      <td>7.460000</td>\n",
              "      <td>7.460000</td>\n",
              "      <td>7.266667</td>\n",
              "      <td>7.326667</td>\n",
              "      <td>1.778110</td>\n",
              "      <td>544000</td>\n",
              "    </tr>\n",
              "    <tr>\n",
              "      <th>4</th>\n",
              "      <td>1962-01-09</td>\n",
              "      <td>7.360000</td>\n",
              "      <td>7.506667</td>\n",
              "      <td>7.360000</td>\n",
              "      <td>7.413333</td>\n",
              "      <td>1.799143</td>\n",
              "      <td>491200</td>\n",
              "    </tr>\n",
              "  </tbody>\n",
              "</table>\n",
              "</div>"
            ],
            "text/plain": [
              "         Date      Open      High       Low     Close  Adj Close  Volume\n",
              "0  1962-01-03  7.626667  7.693333  7.626667  7.693333   1.867095  288000\n",
              "1  1962-01-04  7.693333  7.693333  7.613333  7.616667   1.848488  256000\n",
              "2  1962-01-05  7.606667  7.606667  7.453333  7.466667   1.812086  363200\n",
              "3  1962-01-08  7.460000  7.460000  7.266667  7.326667   1.778110  544000\n",
              "4  1962-01-09  7.360000  7.506667  7.360000  7.413333   1.799143  491200"
            ]
          },
          "metadata": {
            "tags": []
          },
          "execution_count": 2
        }
      ]
    },
    {
      "cell_type": "code",
      "metadata": {
        "id": "0zzhg2WRPkd4"
      },
      "source": [
        "# Υπολογισμός της ημερήσιας διακύμανσης της μετοχής\r\n",
        "df[\"Day_Var\"] = ((df[\"Open\"] - df[\"Close\"]) / df[\"Open\"])* 100\r\n"
      ],
      "execution_count": null,
      "outputs": []
    },
    {
      "cell_type": "code",
      "metadata": {
        "id": "_Vccgpv9QTnx"
      },
      "source": [
        "# Δημιουργία ενός νέου αρχείου 'New Data.xlsx' όπου θα έχει και την στήλή\r\n",
        "# της ημερήσιας διακύμανσης της μετοχής\r\n",
        "writer = pd.ExcelWriter('New Data.xlsx')\r\n",
        "df.to_excel(writer, sheet_name = 'Day Var' , index = False)\r\n",
        "writer.save()\r\n"
      ],
      "execution_count": null,
      "outputs": []
    },
    {
      "cell_type": "code",
      "metadata": {
        "colab": {
          "base_uri": "https://localhost:8080/",
          "height": 198
        },
        "id": "7YSSWEQPPmSe",
        "outputId": "5a935a4e-3cce-46db-9a7f-fac5fd4a7d06"
      },
      "source": [
        "# Διαβάζουμε το νέο αρχείο 'New Data.xlsx'\r\n",
        "pd.read_excel('New Data.xlsx', index_col=0)\r\n",
        "df.head()"
      ],
      "execution_count": null,
      "outputs": [
        {
          "output_type": "execute_result",
          "data": {
            "text/html": [
              "<div>\n",
              "<style scoped>\n",
              "    .dataframe tbody tr th:only-of-type {\n",
              "        vertical-align: middle;\n",
              "    }\n",
              "\n",
              "    .dataframe tbody tr th {\n",
              "        vertical-align: top;\n",
              "    }\n",
              "\n",
              "    .dataframe thead th {\n",
              "        text-align: right;\n",
              "    }\n",
              "</style>\n",
              "<table border=\"1\" class=\"dataframe\">\n",
              "  <thead>\n",
              "    <tr style=\"text-align: right;\">\n",
              "      <th></th>\n",
              "      <th>Date</th>\n",
              "      <th>Open</th>\n",
              "      <th>High</th>\n",
              "      <th>Low</th>\n",
              "      <th>Close</th>\n",
              "      <th>Adj Close</th>\n",
              "      <th>Volume</th>\n",
              "      <th>Day_Var</th>\n",
              "    </tr>\n",
              "  </thead>\n",
              "  <tbody>\n",
              "    <tr>\n",
              "      <th>0</th>\n",
              "      <td>1962-01-03</td>\n",
              "      <td>7.626667</td>\n",
              "      <td>7.693333</td>\n",
              "      <td>7.626667</td>\n",
              "      <td>7.693333</td>\n",
              "      <td>1.867095</td>\n",
              "      <td>288000</td>\n",
              "      <td>-0.874117</td>\n",
              "    </tr>\n",
              "    <tr>\n",
              "      <th>1</th>\n",
              "      <td>1962-01-04</td>\n",
              "      <td>7.693333</td>\n",
              "      <td>7.693333</td>\n",
              "      <td>7.613333</td>\n",
              "      <td>7.616667</td>\n",
              "      <td>1.848488</td>\n",
              "      <td>256000</td>\n",
              "      <td>0.996525</td>\n",
              "    </tr>\n",
              "    <tr>\n",
              "      <th>2</th>\n",
              "      <td>1962-01-05</td>\n",
              "      <td>7.606667</td>\n",
              "      <td>7.606667</td>\n",
              "      <td>7.453333</td>\n",
              "      <td>7.466667</td>\n",
              "      <td>1.812086</td>\n",
              "      <td>363200</td>\n",
              "      <td>1.840491</td>\n",
              "    </tr>\n",
              "    <tr>\n",
              "      <th>3</th>\n",
              "      <td>1962-01-08</td>\n",
              "      <td>7.460000</td>\n",
              "      <td>7.460000</td>\n",
              "      <td>7.266667</td>\n",
              "      <td>7.326667</td>\n",
              "      <td>1.778110</td>\n",
              "      <td>544000</td>\n",
              "      <td>1.787306</td>\n",
              "    </tr>\n",
              "    <tr>\n",
              "      <th>4</th>\n",
              "      <td>1962-01-09</td>\n",
              "      <td>7.360000</td>\n",
              "      <td>7.506667</td>\n",
              "      <td>7.360000</td>\n",
              "      <td>7.413333</td>\n",
              "      <td>1.799143</td>\n",
              "      <td>491200</td>\n",
              "      <td>-0.724633</td>\n",
              "    </tr>\n",
              "  </tbody>\n",
              "</table>\n",
              "</div>"
            ],
            "text/plain": [
              "         Date      Open      High  ...  Adj Close  Volume   Day_Var\n",
              "0  1962-01-03  7.626667  7.693333  ...   1.867095  288000 -0.874117\n",
              "1  1962-01-04  7.693333  7.693333  ...   1.848488  256000  0.996525\n",
              "2  1962-01-05  7.606667  7.606667  ...   1.812086  363200  1.840491\n",
              "3  1962-01-08  7.460000  7.460000  ...   1.778110  544000  1.787306\n",
              "4  1962-01-09  7.360000  7.506667  ...   1.799143  491200 -0.724633\n",
              "\n",
              "[5 rows x 8 columns]"
            ]
          },
          "metadata": {
            "tags": []
          },
          "execution_count": 5
        }
      ]
    },
    {
      "cell_type": "code",
      "metadata": {
        "id": "u7l_MLhaPppr"
      },
      "source": [
        "date = df['Date']\r\n",
        "# date\r\n",
        "\r\n",
        "day_var = df['Day_Var']\r\n",
        "# day_var"
      ],
      "execution_count": null,
      "outputs": []
    },
    {
      "cell_type": "code",
      "metadata": {
        "colab": {
          "base_uri": "https://localhost:8080/"
        },
        "id": "dFgyZOycP93m",
        "outputId": "fdfaa6ba-bdf0-4ce3-a160-bc256826eb20"
      },
      "source": [
        "# Υπολογίζουμε την μέγιστη τιμή του df[\"Day_Var\"]\r\n",
        "xmax = df[\"Day_Var\"].max()\r\n",
        "xmax"
      ],
      "execution_count": null,
      "outputs": [
        {
          "output_type": "execute_result",
          "data": {
            "text/plain": [
              "23.51851851851852"
            ]
          },
          "metadata": {
            "tags": []
          },
          "execution_count": 8
        }
      ]
    },
    {
      "cell_type": "code",
      "metadata": {
        "colab": {
          "base_uri": "https://localhost:8080/"
        },
        "id": "Wme6GtzYP96U",
        "outputId": "38be3624-bf62-488d-c644-0b97cfcebe37"
      },
      "source": [
        "# Υπολογίζουμε την ελάχιστη τιμή του df[\"Day_Var\"]\r\n",
        "xmin = df[\"Day_Var\"].min()\r\n",
        "xmin"
      ],
      "execution_count": null,
      "outputs": [
        {
          "output_type": "execute_result",
          "data": {
            "text/plain": [
              "-12.985074626865673"
            ]
          },
          "metadata": {
            "tags": []
          },
          "execution_count": 9
        }
      ]
    },
    {
      "cell_type": "code",
      "metadata": {
        "colab": {
          "base_uri": "https://localhost:8080/",
          "height": 644
        },
        "id": "xsu9R3mmQE0F",
        "outputId": "e2360d5c-45d3-4382-b12d-79dc67fde92a"
      },
      "source": [
        "# Υπολογίζουμε τον αριθμό bins που θέλουμε να διαμερίσουμε τα δεδομένα μας\r\n",
        "# Στην περίπτωσή μας θέλουμε να διαμερίσουμε το διάστημα ανά 0.1\r\n",
        "bins = (df['Day_Var'].max() - df['Day_Var'].min()) * 10\r\n",
        "bins = int(bins)\r\n",
        "print(\" Η διαμέρηση έχει bins = \",bins)\r\n",
        "\r\n",
        "# Κάνουμε sort-->ascending τα δεδομένα μας σε περίπτωση που έχουμε την ίδια\r\n",
        "# μέγιστη ή ελάχιστη τιμή σε μια ημέρα\r\n",
        "date =df.sort_values(by=['Day_Var','Date'],ascending=False)\r\n",
        "\r\n",
        "# Μέγεθος Διαγράμματος\r\n",
        "plt.figure(figsize=(10,7))\r\n",
        "\r\n",
        "# Εντοπίζουμε την τελευταία μέρα με την μεγαλύτερη & μικρότερη διακύμαση \r\n",
        "max_day = date[:1]\r\n",
        "min_day = date[-1:]\r\n",
        "print(f'\\n H τελευταία μέρα που πουρουσιάστηκε η μεγαλύτερη διακύμαση είχε ημ/νία και τιμή :\\n\\n{max_day}')\r\n",
        "print(f'\\n H τελευταία μέρα που πουρουσιάστηκε η μικρότερη διακύμαση είχε ημ/νία και τιμή :\\n\\n{min_day}')\r\n",
        "\r\n",
        "# Τίτλος Xmin - Xmax στο γράφημα  \r\n",
        "plt.annotate(f'Xmax={round(xmax,3)}', xy=(xmax,0), xytext=(10, 200), fontsize=15,\\\r\n",
        "             arrowprops={'width':0.3,'headwidth':5,'color':'#333333'})\r\n",
        "\r\n",
        "plt.annotate(f'Xmin={round(xmin,3)}', xy=(xmin,0), xytext=(-12, 200), fontsize=15,\\\r\n",
        "             arrowprops={'width':0.3,'headwidth':5,'color':'#333333'})\r\n",
        "\r\n",
        "# Τίτλος Ημερομηνίας στο γράφημα    \r\n",
        "max_day = list(df.iloc[df['Day_Var'].argmax()])\r\n",
        "min_day = list(df.iloc[df['Day_Var'].argmin()])\r\n",
        "plt.text(5,700,\"Last Day MaxVar:\" + max_day[0] +\"\\n\" + \"\\nLast Day MinVar:\"+ min_day[0],fontsize=15)\r\n",
        "\r\n",
        "# Plotting Histogram\r\n",
        "plt.title(\"ΙΒΜ - Histogram\")\r\n",
        "plt.hist((day_var),bins=bins)\r\n",
        "plt.show()"
      ],
      "execution_count": null,
      "outputs": [
        {
          "output_type": "stream",
          "text": [
            " Η διαμέρηση έχει bins =  365\n",
            "\n",
            " H τελευταία μέρα που πουρουσιάστηκε η μεγαλύτερη διακύμαση είχε ημ/νία και τιμή :\n",
            "\n",
            "            Date   Open  High   Low    Close  Adj Close    Volume    Day_Var\n",
            "6483  1987-10-19  33.75  34.5  25.0  25.8125   11.62007  25497600  23.518519\n",
            "\n",
            " H τελευταία μέρα που πουρουσιάστηκε η μικρότερη διακύμαση είχε ημ/νία και τιμή :\n",
            "\n",
            "            Date   Open  High    Low   Close  Adj Close    Volume    Day_Var\n",
            "9821  2001-01-03  83.75  95.0  83.75  94.625  59.501057  12769900 -12.985075\n"
          ],
          "name": "stdout"
        },
        {
          "output_type": "display_data",
          "data": {
            "image/png": "[encoded data removed]",
            "text/plain": [
              "<Figure size 720x504 with 1 Axes>"
            ]
          },
          "metadata": {
            "tags": [],
            "needs_background": "light"
          }
        }
      ]
    },
    {
      "cell_type": "code",
      "metadata": {
        "colab": {
          "base_uri": "https://localhost:8080/",
          "height": 459
        },
        "id": "SUL8fiaXQE2k",
        "outputId": "80fdb6d7-a556-407d-9388-0e2e1bf4d6b0"
      },
      "source": [
        "# Υπολογσιμός Standard Deviation & Mean\r\n",
        "std = np.std(df['Day_Var'],ddof=1)\r\n",
        "mean = np.mean(df['Day_Var'])\r\n",
        "\r\n",
        "# or\r\n",
        "# mean,std = norm.fit(df['Day_Var'])\r\n",
        "\r\n",
        "plt.figure(figsize=(10,7))\r\n",
        "\r\n",
        "# Title box with blue line\r\n",
        "blue_line = mlines.Line2D([], [], color='blue', marker='',markersize=15,\r\n",
        "                        label= \"\\n\" + '$\\mathcal{N}$ ' +  \r\n",
        "                        f'$( \\mu  \\\\approx {round((mean),5)} , \\\r\n",
        "                           \\sigma  \\\\approx {round((std),5)} )$\\n')\r\n",
        "\r\n",
        "plt.legend(handles=[blue_line])\r\n",
        "\r\n",
        "# Plotting Normal Distribution and Histogram\r\n",
        "\r\n",
        "domain = np.linspace(xmin,xmax)\r\n",
        "plt.plot(domain,norm.pdf(domain,mean,std))\r\n",
        "\r\n",
        "plt.hist(df['Day_Var'], edgecolor = 'black',alpha=0.5,bins=bins, density=True)\r\n",
        "plt.title(\"IBM - Normal Fit\")\r\n",
        "plt.xlabel(\"Day_Var\")\r\n",
        "plt.ylabel(\"Density\")\r\n",
        "plt.show()\r\n"
      ],
      "execution_count": null,
      "outputs": [
        {
          "output_type": "display_data",
          "data": {
            "image/png": "[encoded data removed]",
            "text/plain": [
              "<Figure size 720x504 with 1 Axes>"
            ]
          },
          "metadata": {
            "tags": [],
            "needs_background": "light"
          }
        }
      ]
    },
    {
      "cell_type": "code",
      "metadata": {
        "colab": {
          "base_uri": "https://localhost:8080/"
        },
        "id": "BEZvkOrsQE5M",
        "outputId": "5c0603f5-2141-4352-d9a2-57868dcc9068"
      },
      "source": [
        "import pandas as pd\r\n",
        "import pandas_datareader.data as web\r\n",
        "import datetime\r\n",
        "import numpy as np\r\n",
        "import matplotlib.pyplot as plt\r\n",
        "from scipy.stats import norm\r\n",
        "\r\n",
        "start = datetime.datetime(1980,1,1)\r\n",
        "stop = datetime.datetime(2020,1,1)\r\n",
        "\r\n",
        "print(\"\\n---------------------------------------------\\n\\\r\n",
        "*** Please fill find below IBM or S&P 500 Stock Rates {1980 - 2020}\\\r\n",
        "\\n---------------------------------------------\\n \")\r\n",
        "\r\n",
        "print(\"\\n For IBM Rates please write : IBM\\n For S&P500 Rates please write : SPY\")\r\n",
        "\r\n",
        "Stock_name = input(\"Insert a Stock - Name :\")\r\n",
        "\r\n",
        "print(\"\\n---------------------------------------------\\n\\\r\n",
        "*** Please wait few sec for the downloading of the data\\\r\n",
        "\\n---------------------------------------------\\n \")\r\n",
        "\r\n",
        "while Stock_name != 'IBM'and Stock_name != 'SPY' :\r\n",
        "    Stock_name = input(\"Insert a stock :\")\r\n",
        "\r\n",
        "if  Stock_name == 'IBM':\r\n",
        "    \r\n",
        "    # Κατεβάζουμε τα την μετοχή που θέλουμε από YAHOU, μέσω της  \r\n",
        "    df1 = web.DataReader(\"IBM\",'yahoo',start,stop)\r\n",
        "    df1.to_csv('IBM - Rates.csv')\r\n",
        "    print(\"\\n------- IBM - Rates.csv has been downloaded correctly ! -------\")\r\n",
        "    \r\n",
        "     \r\n",
        "        \r\n",
        "    df1 = pd.read_csv('IBM - Rates.csv',sep=\",\")\r\n",
        "    df1.head() \r\n",
        "    \r\n",
        "    \r\n",
        "        \r\n",
        "\r\n",
        "    df1[\"Day_Var\"] = ((df1[\"Open\"] - df1[\"Close\"]) / df1[\"Open\"])* 100\r\n",
        "\r\n",
        "    writer = pd.ExcelWriter('New Data IBM.xlsx')\r\n",
        "    df1.to_excel(writer, sheet_name = 'Day Var' , index = False)\r\n",
        "    writer.save()    \r\n",
        "     \r\n",
        "    pd.read_excel('New Data IBM.xlsx', index_col=0)\r\n",
        "    df1.head()\r\n",
        "\r\n",
        "elif  Stock_name == 'SPY':\r\n",
        "   \r\n",
        "    df1 = web.DataReader(\"SPY\",'yahoo',start,stop)\r\n",
        "    df1.to_csv('SPY - Rates.csv')\r\n",
        "    print(\"\\n SPY - Rates.csv has been downloaded correctly !!!\")\r\n",
        "    \r\n",
        "     \r\n",
        "        \r\n",
        "    df1 = pd.read_csv('SPY - Rates.csv',sep=\",\")\r\n",
        "    df1.head() \r\n",
        "    \r\n",
        "    \r\n",
        "        \r\n",
        "    df1[\"Day_Var\"] = ((df1[\"Open\"] - df1[\"Close\"]) / df1[\"Open\"])* 100\r\n",
        "\r\n",
        "\r\n",
        "    writer = pd.ExcelWriter('New Data SPY.xlsx')\r\n",
        "    df1.to_excel(writer, sheet_name = 'Day Var' , index = False)\r\n",
        "    writer.save()    \r\n",
        "     \r\n",
        "    pd.read_excel('New Data SPY.xlsx', index_col=0)\r\n",
        "    df1.head()        \r\n"
      ],
      "execution_count": null,
      "outputs": [
        {
          "output_type": "stream",
          "text": [
            "\n",
            "---------------------------------------------\n",
            "*** Please fill find below IBM or S&P 500 Stock Rates {1980 - 2020}\n",
            "---------------------------------------------\n",
            " \n",
            "\n",
            " For IBM Rates please write : IBM\n",
            " For S&P500 Rates please write : SPY\n",
            "Insert a Stock - Name :SPY\n",
            "\n",
            "---------------------------------------------\n",
            "*** Please wait few sec for the downloading of the data\n",
            "---------------------------------------------\n",
            " \n",
            "\n",
            " SPY - Rates.csv has been downloaded correctly !!!\n"
          ],
          "name": "stdout"
        }
      ]
    },
    {
      "cell_type": "code",
      "metadata": {
        "colab": {
          "base_uri": "https://localhost:8080/",
          "height": 644
        },
        "id": "xsk6xr00SiTr",
        "outputId": "9849ed48-0d35-49a4-8801-7dfe82b533d9"
      },
      "source": [
        "if Stock_name == \"IBM\":\r\n",
        "    x1 = (10,200)\r\n",
        "    x2 = (-12,200)\r\n",
        "    z1 = 5\r\n",
        "    z2 = 400    \r\n",
        "elif Stock_name == \"SPY\":\r\n",
        "    x1 = (5,200)\r\n",
        "    x2 = (-7.5,200)\r\n",
        "    z1 = -9.5\r\n",
        "    z2 = 400\r\n",
        "\r\n",
        "# Υπολογίζουμε την μέγιστη τιμή του df[\"Day_Var\"]\r\n",
        "xmax = df1[\"Day_Var\"].max()\r\n",
        "xmax\r\n",
        "\r\n",
        "# Υπολογίζουμε την ελάχιστη τιμή του df[\"Day_Var\"]\r\n",
        "xmin = df1[\"Day_Var\"].min()\r\n",
        "xmin\r\n",
        "\r\n",
        "# Υπολογίζουμε τον αριθμό bins που θέλουμε να διαμερίσουμε τα δεδομένα μας\r\n",
        "# Στην περίπτωσή μας θέλουμε να διαμερίσουμε το διάστημα ανά 0.1\r\n",
        "bins = (df1['Day_Var'].max() - df1['Day_Var'].min()) * 10\r\n",
        "bins = int(bins)\r\n",
        "print(\" Η διαμέρηση έχει bins = \",bins)\r\n",
        "\r\n",
        "# Κάνουμε sort-->ascending τα δεδομένα μας σε περίπτωση που έχουμε την ίδια\r\n",
        "# μέγιστη ή ελάχιστη τιμή σε μια ημέρα\r\n",
        "date =df.sort_values(by=['Day_Var','Date'],ascending=False)\r\n",
        "\r\n",
        "# Μέγεθος Διαγράμματος\r\n",
        "plt.figure(figsize=(10,7))\r\n",
        "\r\n",
        "# Εντοπίζουμε την τελευταία μέρα με την μεγαλύτερη & μικρότερη διακύμαση \r\n",
        "max_day = date[:1]\r\n",
        "min_day = date[-1:]\r\n",
        "print(f'\\n H τελευταία μέρα που πουρουσιάστηκε η μεγαλύτερη διακύμαση είχε ημ/νία και τιμή :\\n\\n{max_day}')\r\n",
        "print(f'\\n H τελευταία μέρα που πουρουσιάστηκε η μικρότερη διακύμαση είχε ημ/νία και τιμή :\\n\\n{min_day}')\r\n",
        "\r\n",
        "# Τίτλος Xmin - Xmax στο γράφημα  \r\n",
        "plt.annotate(f'Xmax={round(xmax,3)}', xy=(xmax,0), xytext=x1, fontsize=15,\\\r\n",
        "             arrowprops={'width':0.3,'headwidth':5,'color':'#333333'})\r\n",
        "\r\n",
        "plt.annotate(f'Xmin={round(xmin,3)}', xy=(xmin,0), xytext=x2, fontsize=15,\\\r\n",
        "             arrowprops={'width':0.3,'headwidth':5,'color':'#333333'})\r\n",
        "\r\n",
        "    \r\n",
        "# Τίτλος Ημερομηνίας στο γράφημα    \r\n",
        "max_day = list(df1.iloc[df1['Day_Var'].argmax()])\r\n",
        "min_day = list(df1.iloc[df1['Day_Var'].argmin()])\r\n",
        "plt.text(z1,z2,\"Last Day MaxVar:\" + max_day[0] +\"\\n\" + \"\\nLast Day MinVar:\"+ min_day[0],fontsize=15)\r\n",
        "\r\n",
        "# Plotting Histogram\r\n",
        "plt.title(f'{Stock_name}' + \" - Histogram\")\r\n",
        "plt.hist(df1['Day_Var'],bins=bins)\r\n",
        "plt.show()"
      ],
      "execution_count": null,
      "outputs": [
        {
          "output_type": "stream",
          "text": [
            " Η διαμέρηση έχει bins =  182\n",
            "\n",
            " H τελευταία μέρα που πουρουσιάστηκε η μεγαλύτερη διακύμαση είχε ημ/νία και τιμή :\n",
            "\n",
            "            Date   Open  High   Low    Close  Adj Close    Volume    Day_Var\n",
            "6483  1987-10-19  33.75  34.5  25.0  25.8125   11.62007  25497600  23.518519\n",
            "\n",
            " H τελευταία μέρα που πουρουσιάστηκε η μικρότερη διακύμαση είχε ημ/νία και τιμή :\n",
            "\n",
            "            Date   Open  High    Low   Close  Adj Close    Volume    Day_Var\n",
            "9821  2001-01-03  83.75  95.0  83.75  94.625  59.501057  12769900 -12.985075\n"
          ],
          "name": "stdout"
        },
        {
          "output_type": "display_data",
          "data": {
            "image/png": "[encoded data removed]",
            "text/plain": [
              "<Figure size 720x504 with 1 Axes>"
            ]
          },
          "metadata": {
            "tags": [],
            "needs_background": "light"
          }
        }
      ]
    },
    {
      "cell_type": "code",
      "metadata": {
        "colab": {
          "base_uri": "https://localhost:8080/",
          "height": 458
        },
        "id": "SQyWADSZSkbj",
        "outputId": "5a3943eb-8063-455d-8622-b24fa2211e94"
      },
      "source": [
        "# Υπολογσιμός Standard Deviation & Mean\r\n",
        "std = np.std(df1['Day_Var'],ddof=1)\r\n",
        "mean = np.mean(df1['Day_Var'])\r\n",
        "\r\n",
        "plt.figure(figsize=(10,7))\r\n",
        "\r\n",
        "# Plotting Normal Distribution and Histogram\r\n",
        "domain = np.linspace(np.min(df1['Day_Var']),np.max(df1['Day_Var']))\r\n",
        "plt.plot(domain,norm.pdf(domain,mean,std))\r\n",
        "plt.hist(df1['Day_Var'], edgecolor = 'black',alpha=0.5,bins=bins, density=True)\r\n",
        "plt.title(f'{Stock_name}' + \" - Normal Fit\")\r\n",
        "plt.xlabel(\"Value\")\r\n",
        "plt.ylabel(\"Density\")\r\n",
        "\r\n",
        "# Title box with blue line\r\n",
        "blue_line = mlines.Line2D([], [], color='blue', marker='',markersize=15,\r\n",
        "                        label= \"\\n\" + '$\\mathcal{N}$ ' +  \r\n",
        "                        f'$( \\mu  \\\\approx {round((mean),5)} , \\\r\n",
        "                           \\sigma  \\\\approx {round((std),5)} )$\\n')\r\n",
        "plt.legend(handles=[blue_line])\r\n",
        "\r\n",
        "\r\n",
        "plt.show()"
      ],
      "execution_count": null,
      "outputs": [
        {
          "output_type": "display_data",
          "data": {
            "image/png": "[encoded data removed]",
            "text/plain": [
              "<Figure size 720x504 with 1 Axes>"
            ]
          },
          "metadata": {
            "tags": [],
            "needs_background": "light"
          }
        }
      ]
    }
  ]
}