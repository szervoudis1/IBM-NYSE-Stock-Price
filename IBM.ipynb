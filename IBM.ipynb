{
  "nbformat": 4,
  "nbformat_minor": 0,
  "metadata": {
    "colab": {
      "name": "IBM.ipynb",
      "provenance": [],
      "collapsed_sections": [],
      "authorship_tag": "ABX9TyMag/S1bRwXAPkqvfGlrOqa",
      "include_colab_link": true
    },
    "kernelspec": {
      "name": "python3",
      "display_name": "Python 3"
    }
  },
  "cells": [
    {
      "cell_type": "markdown",
      "metadata": {
        "id": "view-in-github",
        "colab_type": "text"
      },
      "source": [
        "<a href=\"https://colab.research.google.com/github/szervoudis1/IBM-NYSE-Stock-Price/blob/main/IBM.ipynb\" target=\"_parent\"><img src=\"https://colab.research.google.com/assets/colab-badge.svg\" alt=\"Open In Colab\"/></a>"
      ]
    },
    {
      "cell_type": "markdown",
      "metadata": {
        "id": "kZW4QDtlcjPQ"
      },
      "source": [
        "\r\n",
        "# Ατομική Εργασία - Ζερβούδης Στέφανος - me2009\r\n",
        "\r\n",
        "## IBM-NYSE-Stoke-Price\r\n",
        "\r\n",
        "### Άσκηση 2\r\n",
        "\r\n",
        "1. Να κατεβάσετε από το σύνδεσμο https://finance.yahoo.com/quote/IBM/history?p=IBM τις τιμές μετοχών της IBM για το χρονικό διάστημα από 03-01-1962 έως 08-12-2020.\r\n",
        "\r\n",
        "2. Βρείτε την εκατοστιαία ημερήσια διακύμανση της μετοχής\r\n",
        "100 * (Τιμή Ανοίγματος - Τιμή Κλεισίματος) / Τιμή Ανοίγματος και να την προσθέσετε ως καινούργια στήλη σε ένα νέο excel που θα κατασκευάσετε και θα περιέχει το σύνολο των υπολοίπων στηλών του αρχείου που κατεβάσατε.\r\n",
        "\r\n",
        "3. Να κατασκευάσετε ένα ιστόγραμμα το οποίο στον οριζόντιο άξονα θα έχει την εκατοστιαία ημερήσια διακύμανση (βήμα = 0.1%) και στον κατακόρυφο το πλήθος των ημερών κατά τις οποίες παρατηρήθηκε η παραπάνω διακύμανση. Στο ίδιο διάγραμμα να απεικονίζονται οι μέγιστες και ελάχιστες τιμές διακύμανσης και η τελευταία ημερομηνία στις οποίες παρατηρήθηκαν αυτές.\r\n",
        "\r\n",
        "4. Να κατασκευάσετε ένα μοντέλο που αντιστοιχεί στην παραπάνω κατανομή και να απεικονίσετε την κατανομή του μοντέλου στο ίδιο ιστόγραμμα. Διαλέξτε την καταλληλότερη κατανομή για τα δεδομένα σας.\r\n",
        "\r\n",
        "5. Αυτοματοποιήστε την παραπάνω διαδικασία ώστε το πρόγραμμα σας να δέχεται σαν είσοδο το όνομα μιας μετοχής και να πραγματοποιεί αυτόματα την παραπάνω αναζήτηση στο δίκτυο και την ανάλυση (μπορείτε να χρησιμοποιήσετε οποιαδήποτε έγκυρη δικτυακή πηγή για τις τιμές των μετοχών).\r\n"
      ]
    },
    {
      "cell_type": "markdown",
      "metadata": {
        "id": "NjCBbtEJdJW5"
      },
      "source": [
        "## Ερώτημα 1\r\n",
        "---\r\n",
        "Να κατεβάσετε από το σύνδεσμο https://finance.yahoo.com/quote/IBM/history?p=IBM τις τιμές μετοχών της IBM για το χρονικό διάστημα από 03-01-1962 έως 08-12-2020."
      ]
    },
    {
      "cell_type": "markdown",
      "metadata": {
        "id": "-w9C7-rgf11l"
      },
      "source": [
        "```\r\n",
        "Please unmark ' # ' if you want to import your data with Google.Colab !! \r\n",
        "```\r\n",
        "```\r\n",
        "from google.colab import files\r\n",
        "files.upload()\r\n",
        "```"
      ]
    },
    {
      "cell_type": "code",
      "metadata": {
        "id": "4B4Z_PlbOOka"
      },
      "source": [
        "# Εισαγωγή απαραίτητων βιβλιοθηκών\r\n",
        "import pandas as pd\r\n",
        "import numpy as np\r\n",
        "import matplotlib.pyplot as plt\r\n",
        "from scipy.stats import norm\r\n",
        "import matplotlib.lines as mlines\r\n",
        "\r\n",
        "from google.colab import files\r\n",
        "#files.upload()"
      ],
      "execution_count": 1,
      "outputs": []
    },
    {
      "cell_type": "code",
      "metadata": {
        "colab": {
          "base_uri": "https://localhost:8080/",
          "height": 198
        },
        "id": "DNoKDrpOPCQs",
        "outputId": "71890824-c5ff-4fc4-ebbc-6baccca96a1c"
      },
      "source": [
        "# Διαβάζουμε το αρχείο IBM.csv\r\n",
        "df = pd.read_csv(\"IBM.csv\",sep=\",\")\r\n",
        "df.head()"
      ],
      "execution_count": 2,
      "outputs": [
        {
          "output_type": "execute_result",
          "data": {
            "text/html": [
              "<div>\n",
              "<style scoped>\n",
              "    .dataframe tbody tr th:only-of-type {\n",
              "        vertical-align: middle;\n",
              "    }\n",
              "\n",
              "    .dataframe tbody tr th {\n",
              "        vertical-align: top;\n",
              "    }\n",
              "\n",
              "    .dataframe thead th {\n",
              "        text-align: right;\n",
              "    }\n",
              "</style>\n",
              "<table border=\"1\" class=\"dataframe\">\n",
              "  <thead>\n",
              "    <tr style=\"text-align: right;\">\n",
              "      <th></th>\n",
              "      <th>Date</th>\n",
              "      <th>Open</th>\n",
              "      <th>High</th>\n",
              "      <th>Low</th>\n",
              "      <th>Close</th>\n",
              "      <th>Adj Close</th>\n",
              "      <th>Volume</th>\n",
              "    </tr>\n",
              "  </thead>\n",
              "  <tbody>\n",
              "    <tr>\n",
              "      <th>0</th>\n",
              "      <td>1962-01-03</td>\n",
              "      <td>7.626667</td>\n",
              "      <td>7.693333</td>\n",
              "      <td>7.626667</td>\n",
              "      <td>7.693333</td>\n",
              "      <td>1.867095</td>\n",
              "      <td>288000</td>\n",
              "    </tr>\n",
              "    <tr>\n",
              "      <th>1</th>\n",
              "      <td>1962-01-04</td>\n",
              "      <td>7.693333</td>\n",
              "      <td>7.693333</td>\n",
              "      <td>7.613333</td>\n",
              "      <td>7.616667</td>\n",
              "      <td>1.848488</td>\n",
              "      <td>256000</td>\n",
              "    </tr>\n",
              "    <tr>\n",
              "      <th>2</th>\n",
              "      <td>1962-01-05</td>\n",
              "      <td>7.606667</td>\n",
              "      <td>7.606667</td>\n",
              "      <td>7.453333</td>\n",
              "      <td>7.466667</td>\n",
              "      <td>1.812086</td>\n",
              "      <td>363200</td>\n",
              "    </tr>\n",
              "    <tr>\n",
              "      <th>3</th>\n",
              "      <td>1962-01-08</td>\n",
              "      <td>7.460000</td>\n",
              "      <td>7.460000</td>\n",
              "      <td>7.266667</td>\n",
              "      <td>7.326667</td>\n",
              "      <td>1.778110</td>\n",
              "      <td>544000</td>\n",
              "    </tr>\n",
              "    <tr>\n",
              "      <th>4</th>\n",
              "      <td>1962-01-09</td>\n",
              "      <td>7.360000</td>\n",
              "      <td>7.506667</td>\n",
              "      <td>7.360000</td>\n",
              "      <td>7.413333</td>\n",
              "      <td>1.799143</td>\n",
              "      <td>491200</td>\n",
              "    </tr>\n",
              "  </tbody>\n",
              "</table>\n",
              "</div>"
            ],
            "text/plain": [
              "         Date      Open      High       Low     Close  Adj Close  Volume\n",
              "0  1962-01-03  7.626667  7.693333  7.626667  7.693333   1.867095  288000\n",
              "1  1962-01-04  7.693333  7.693333  7.613333  7.616667   1.848488  256000\n",
              "2  1962-01-05  7.606667  7.606667  7.453333  7.466667   1.812086  363200\n",
              "3  1962-01-08  7.460000  7.460000  7.266667  7.326667   1.778110  544000\n",
              "4  1962-01-09  7.360000  7.506667  7.360000  7.413333   1.799143  491200"
            ]
          },
          "metadata": {
            "tags": []
          },
          "execution_count": 2
        }
      ]
    },
    {
      "cell_type": "markdown",
      "metadata": {
        "id": "DYOjZUW1dvwM"
      },
      "source": [
        "## Ερώτημα 2\r\n",
        "---\r\n",
        "Βρείτε την εκατοστιαία ημερήσια διακύμανση της μετοχής 100 * (Τιμή Ανοίγματος - Τιμή Κλεισίματος) / Τιμή Ανοίγματος και να την προσθέσετε ως καινούργια στήλη σε ένα νέο excel που θα κατασκευάσετε και θα περιέχει το σύνολο των υπολοίπων στηλών του αρχείου που κατεβάσατε."
      ]
    },
    {
      "cell_type": "code",
      "metadata": {
        "id": "0zzhg2WRPkd4"
      },
      "source": [
        "# Υπολογισμός της ημερήσιας διακύμανσης της μετοχής\r\n",
        "df[\"Day_Var\"] = ((df[\"Open\"] - df[\"Close\"]) / df[\"Open\"])* 100\r\n"
      ],
      "execution_count": 3,
      "outputs": []
    },
    {
      "cell_type": "code",
      "metadata": {
        "id": "_Vccgpv9QTnx"
      },
      "source": [
        "# Δημιουργία ενός νέου αρχείου 'New Data.xlsx' όπου θα έχει και την στήλή\r\n",
        "# της ημερήσιας διακύμανσης της μετοχής\r\n",
        "writer = pd.ExcelWriter('New Data.xlsx')\r\n",
        "df.to_excel(writer, sheet_name = 'Day Var' , index = False)\r\n",
        "writer.save()\r\n"
      ],
      "execution_count": 4,
      "outputs": []
    },
    {
      "cell_type": "code",
      "metadata": {
        "colab": {
          "base_uri": "https://localhost:8080/",
          "height": 198
        },
        "id": "7YSSWEQPPmSe",
        "outputId": "6ec43288-738c-463f-a688-e3568625ce7a"
      },
      "source": [
        "# Διαβάζουμε το νέο αρχείο 'New Data.xlsx'\r\n",
        "pd.read_excel('New Data.xlsx', index_col=0)\r\n",
        "df.head()\r\n"
      ],
      "execution_count": 5,
      "outputs": [
        {
          "output_type": "execute_result",
          "data": {
            "text/html": [
              "<div>\n",
              "<style scoped>\n",
              "    .dataframe tbody tr th:only-of-type {\n",
              "        vertical-align: middle;\n",
              "    }\n",
              "\n",
              "    .dataframe tbody tr th {\n",
              "        vertical-align: top;\n",
              "    }\n",
              "\n",
              "    .dataframe thead th {\n",
              "        text-align: right;\n",
              "    }\n",
              "</style>\n",
              "<table border=\"1\" class=\"dataframe\">\n",
              "  <thead>\n",
              "    <tr style=\"text-align: right;\">\n",
              "      <th></th>\n",
              "      <th>Date</th>\n",
              "      <th>Open</th>\n",
              "      <th>High</th>\n",
              "      <th>Low</th>\n",
              "      <th>Close</th>\n",
              "      <th>Adj Close</th>\n",
              "      <th>Volume</th>\n",
              "      <th>Day_Var</th>\n",
              "    </tr>\n",
              "  </thead>\n",
              "  <tbody>\n",
              "    <tr>\n",
              "      <th>0</th>\n",
              "      <td>1962-01-03</td>\n",
              "      <td>7.626667</td>\n",
              "      <td>7.693333</td>\n",
              "      <td>7.626667</td>\n",
              "      <td>7.693333</td>\n",
              "      <td>1.867095</td>\n",
              "      <td>288000</td>\n",
              "      <td>-0.874117</td>\n",
              "    </tr>\n",
              "    <tr>\n",
              "      <th>1</th>\n",
              "      <td>1962-01-04</td>\n",
              "      <td>7.693333</td>\n",
              "      <td>7.693333</td>\n",
              "      <td>7.613333</td>\n",
              "      <td>7.616667</td>\n",
              "      <td>1.848488</td>\n",
              "      <td>256000</td>\n",
              "      <td>0.996525</td>\n",
              "    </tr>\n",
              "    <tr>\n",
              "      <th>2</th>\n",
              "      <td>1962-01-05</td>\n",
              "      <td>7.606667</td>\n",
              "      <td>7.606667</td>\n",
              "      <td>7.453333</td>\n",
              "      <td>7.466667</td>\n",
              "      <td>1.812086</td>\n",
              "      <td>363200</td>\n",
              "      <td>1.840491</td>\n",
              "    </tr>\n",
              "    <tr>\n",
              "      <th>3</th>\n",
              "      <td>1962-01-08</td>\n",
              "      <td>7.460000</td>\n",
              "      <td>7.460000</td>\n",
              "      <td>7.266667</td>\n",
              "      <td>7.326667</td>\n",
              "      <td>1.778110</td>\n",
              "      <td>544000</td>\n",
              "      <td>1.787306</td>\n",
              "    </tr>\n",
              "    <tr>\n",
              "      <th>4</th>\n",
              "      <td>1962-01-09</td>\n",
              "      <td>7.360000</td>\n",
              "      <td>7.506667</td>\n",
              "      <td>7.360000</td>\n",
              "      <td>7.413333</td>\n",
              "      <td>1.799143</td>\n",
              "      <td>491200</td>\n",
              "      <td>-0.724633</td>\n",
              "    </tr>\n",
              "  </tbody>\n",
              "</table>\n",
              "</div>"
            ],
            "text/plain": [
              "         Date      Open      High  ...  Adj Close  Volume   Day_Var\n",
              "0  1962-01-03  7.626667  7.693333  ...   1.867095  288000 -0.874117\n",
              "1  1962-01-04  7.693333  7.693333  ...   1.848488  256000  0.996525\n",
              "2  1962-01-05  7.606667  7.606667  ...   1.812086  363200  1.840491\n",
              "3  1962-01-08  7.460000  7.460000  ...   1.778110  544000  1.787306\n",
              "4  1962-01-09  7.360000  7.506667  ...   1.799143  491200 -0.724633\n",
              "\n",
              "[5 rows x 8 columns]"
            ]
          },
          "metadata": {
            "tags": []
          },
          "execution_count": 5
        }
      ]
    },
    {
      "cell_type": "markdown",
      "metadata": {
        "id": "v2m0bQ1Nd3eK"
      },
      "source": [
        "## Ερώτημα 3\r\n",
        "---\r\n",
        "Να κατασκευάσετε ένα ιστόγραμμα το οποίο στον οριζόντιο άξονα θα έχει την εκατοστιαία ημερήσια διακύμανση (βήμα = 0.1%) και στον κατακόρυφο το πλήθος των ημερών κατά τις οποίες παρατηρήθηκε η παραπάνω διακύμανση. Στο ίδιο διάγραμμα να απεικονίζονται οι μέγιστες και ελάχιστες τιμές διακύμανσης και η τελευταία ημερομηνία στις οποίες παρατηρήθηκαν αυτές."
      ]
    },
    {
      "cell_type": "code",
      "metadata": {
        "id": "u7l_MLhaPppr"
      },
      "source": [
        "date = df['Date']\r\n",
        "# date\r\n",
        "\r\n",
        "day_var = df['Day_Var']\r\n",
        "# day_var\r\n"
      ],
      "execution_count": 6,
      "outputs": []
    },
    {
      "cell_type": "code",
      "metadata": {
        "colab": {
          "base_uri": "https://localhost:8080/"
        },
        "id": "dFgyZOycP93m",
        "outputId": "9a114432-b11e-4ca9-8067-9752e294d1eb"
      },
      "source": [
        "# Υπολογίζουμε την μέγιστη τιμή του df[\"Day_Var\"]\r\n",
        "xmax = df[\"Day_Var\"].max()\r\n",
        "xmax\r\n"
      ],
      "execution_count": 7,
      "outputs": [
        {
          "output_type": "execute_result",
          "data": {
            "text/plain": [
              "23.51851851851852"
            ]
          },
          "metadata": {
            "tags": []
          },
          "execution_count": 7
        }
      ]
    },
    {
      "cell_type": "code",
      "metadata": {
        "colab": {
          "base_uri": "https://localhost:8080/"
        },
        "id": "Wme6GtzYP96U",
        "outputId": "d382e029-3786-4f61-c911-18d317e04cfd"
      },
      "source": [
        "# Υπολογίζουμε την ελάχιστη τιμή του df[\"Day_Var\"]\r\n",
        "xmin = df[\"Day_Var\"].min()\r\n",
        "xmin\r\n"
      ],
      "execution_count": 8,
      "outputs": [
        {
          "output_type": "execute_result",
          "data": {
            "text/plain": [
              "-12.985074626865673"
            ]
          },
          "metadata": {
            "tags": []
          },
          "execution_count": 8
        }
      ]
    },
    {
      "cell_type": "code",
      "metadata": {
        "colab": {
          "base_uri": "https://localhost:8080/",
          "height": 644
        },
        "id": "xsu9R3mmQE0F",
        "outputId": "23bea69f-7fea-4e48-d203-aedf2f73b1af"
      },
      "source": [
        "# Υπολογίζουμε τον αριθμό bins που θέλουμε να διαμερίσουμε τα δεδομένα μας\r\n",
        "# Στην περίπτωσή μας θέλουμε να διαμερίσουμε το διάστημα ανά 0.1\r\n",
        "bins = (df['Day_Var'].max() - df['Day_Var'].min()) * 10\r\n",
        "bins = int(bins)\r\n",
        "print(\" Η διαμέρηση έχει bins = \",bins)\r\n",
        "\r\n",
        "# Κάνουμε sort-->ascending τα δεδομένα μας σε περίπτωση που έχουμε την ίδια\r\n",
        "# μέγιστη ή ελάχιστη τιμή σε μια ημέρα\r\n",
        "date =df.sort_values(by=['Day_Var','Date'],ascending=False)\r\n",
        "\r\n",
        "# Μέγεθος Διαγράμματος\r\n",
        "plt.figure(figsize=(10,7))\r\n",
        "\r\n",
        "# Εντοπίζουμε την τελευταία μέρα με την μεγαλύτερη & μικρότερη διακύμαση \r\n",
        "max_day = date[:1]\r\n",
        "min_day = date[-1:]\r\n",
        "print(f'\\n H τελευταία μέρα που πουρουσιάστηκε η μεγαλύτερη διακύμαση είχε ημ/νία και τιμή :\\n\\n{max_day}')\r\n",
        "print(f'\\n H τελευταία μέρα που πουρουσιάστηκε η μικρότερη διακύμαση είχε ημ/νία και τιμή :\\n\\n{min_day}')\r\n",
        "\r\n",
        "# Τίτλος Xmin - Xmax στο γράφημα  \r\n",
        "plt.annotate(f'Xmax={round(xmax,3)}', xy=(xmax,0), xytext=(10, 200), fontsize=15,\\\r\n",
        "             arrowprops={'width':0.3,'headwidth':5,'color':'#333333'})\r\n",
        "\r\n",
        "plt.annotate(f'Xmin={round(xmin,3)}', xy=(xmin,0), xytext=(-12, 200), fontsize=15,\\\r\n",
        "             arrowprops={'width':0.3,'headwidth':5,'color':'#333333'})\r\n",
        "\r\n",
        "# Τίτλος Ημερομηνίας στο γράφημα    \r\n",
        "max_day = list(df.iloc[df['Day_Var'].argmax()])\r\n",
        "min_day = list(df.iloc[df['Day_Var'].argmin()])\r\n",
        "plt.text(5,700,\"Last Day MaxVar:\" + max_day[0] +\"\\n\" + \"\\nLast Day MinVar:\"+ min_day[0],fontsize=15)\r\n",
        "\r\n",
        "# Plotting Histogram\r\n",
        "plt.title(\"ΙΒΜ - Histogram\")\r\n",
        "plt.hist((day_var),bins=bins)\r\n",
        "plt.show()\r\n"
      ],
      "execution_count": 9,
      "outputs": [
        {
          "output_type": "stream",
          "text": [
            " Η διαμέρηση έχει bins =  365\n",
            "\n",
            " H τελευταία μέρα που πουρουσιάστηκε η μεγαλύτερη διακύμαση είχε ημ/νία και τιμή :\n",
            "\n",
            "            Date   Open  High   Low    Close  Adj Close    Volume    Day_Var\n",
            "6483  1987-10-19  33.75  34.5  25.0  25.8125   11.62007  25497600  23.518519\n",
            "\n",
            " H τελευταία μέρα που πουρουσιάστηκε η μικρότερη διακύμαση είχε ημ/νία και τιμή :\n",
            "\n",
            "            Date   Open  High    Low   Close  Adj Close    Volume    Day_Var\n",
            "9821  2001-01-03  83.75  95.0  83.75  94.625  59.501057  12769900 -12.985075\n"
          ],
          "name": "stdout"
        },
        {
          "output_type": "display_data",
          "data": {
            "image/png": "[encoded data removed]",
            "text/plain": [
              "<Figure size 720x504 with 1 Axes>"
            ]
          },
          "metadata": {
            "tags": [],
            "needs_background": "light"
          }
        }
      ]
    },
    {
      "cell_type": "markdown",
      "metadata": {
        "id": "itVrL7JKeCwy"
      },
      "source": [
        "## Ερώτημα 4\r\n",
        "---\r\n",
        "Να κατασκευάσετε ένα μοντέλο που αντιστοιχεί στην παραπάνω κατανομή και να απεικονίσετε την κατανομή του μοντέλου στο ίδιο ιστόγραμμα. Διαλέξτε την καταλληλότερη κατανομή για τα δεδομένα σας."
      ]
    },
    {
      "cell_type": "code",
      "metadata": {
        "colab": {
          "base_uri": "https://localhost:8080/",
          "height": 459
        },
        "id": "SUL8fiaXQE2k",
        "outputId": "163fd4c4-8c42-4aa3-ebe1-6549c15e8cf7"
      },
      "source": [
        "# Υπολογσιμός Standard Deviation & Mean\r\n",
        "std = np.std(df['Day_Var'],ddof=1)\r\n",
        "mean = np.mean(df['Day_Var'])\r\n",
        "\r\n",
        "# or\r\n",
        "# mean,std = norm.fit(df['Day_Var'])\r\n",
        "\r\n",
        "plt.figure(figsize=(10,7))\r\n",
        "\r\n",
        "# Title box with blue line\r\n",
        "blue_line = mlines.Line2D([], [], color='blue', marker='',markersize=15,\r\n",
        "                        label= \"\\n\" + '$\\mathcal{N}$ ' +  \r\n",
        "                        f'$( \\mu  \\\\approx {round((mean),5)} , \\\r\n",
        "                           \\sigma  \\\\approx {round((std),5)} )$\\n')\r\n",
        "\r\n",
        "plt.legend(handles=[blue_line])\r\n",
        "\r\n",
        "# Plotting Normal Distribution and Histogram\r\n",
        "\r\n",
        "domain = np.linspace(xmin,xmax)\r\n",
        "plt.plot(domain,norm.pdf(domain,mean,std))\r\n",
        "\r\n",
        "plt.hist(df['Day_Var'], edgecolor = 'black',alpha=0.5,bins=bins, density=True)\r\n",
        "plt.title(\"IBM - Normal Fit\")\r\n",
        "plt.xlabel(\"Day_Var\")\r\n",
        "plt.ylabel(\"Density\")\r\n",
        "plt.show()\r\n"
      ],
      "execution_count": 10,
      "outputs": [
        {
          "output_type": "display_data",
          "data": {
            "image/png": "[encoded data removed]",
            "text/plain": [
              "<Figure size 720x504 with 1 Axes>"
            ]
          },
          "metadata": {
            "tags": [],
            "needs_background": "light"
          }
        }
      ]
    },
    {
      "cell_type": "markdown",
      "metadata": {
        "id": "tBHWuarPeMtr"
      },
      "source": [
        "## Ερώτημα 5\r\n",
        "---\r\n",
        "Αυτοματοποιήστε την παραπάνω διαδικασία ώστε το πρόγραμμα σας να δέχεται σαν είσοδο το όνομα μιας μετοχής και να πραγματοποιεί αυτόματα την παραπάνω αναζήτηση στο δίκτυο και την ανάλυση (μπορείτε να χρησιμοποιήσετε οποιαδήποτε έγκυρη δικτυακή πηγή για τις τιμές των μετοχών)."
      ]
    },
    {
      "cell_type": "code",
      "metadata": {
        "colab": {
          "base_uri": "https://localhost:8080/"
        },
        "id": "BEZvkOrsQE5M",
        "outputId": "f44bbc10-103c-4620-bca8-7b8c832a40de"
      },
      "source": [
        "import pandas as pd\r\n",
        "import pandas_datareader.data as web\r\n",
        "import datetime\r\n",
        "import numpy as np\r\n",
        "import matplotlib.pyplot as plt\r\n",
        "from scipy.stats import norm\r\n",
        "\r\n",
        "start = datetime.datetime(1980,1,1)\r\n",
        "stop = datetime.datetime(2020,1,1)\r\n",
        "\r\n",
        "print(\"\\n---------------------------------------------\\n\\\r\n",
        "*** Please fill find below IBM or S&P 500 Stock Rates {1980 - 2020}\\\r\n",
        "\\n---------------------------------------------\\n \")\r\n",
        "\r\n",
        "print(\"\\n For IBM Rates please write : IBM\\n For S&P500 Rates please write : SPY\")\r\n",
        "\r\n",
        "Stock_name = input(\"Insert a Stock - Name :\")\r\n",
        "\r\n",
        "print(\"\\n---------------------------------------------\\n\\\r\n",
        "*** Please wait few sec for the downloading of the data\\\r\n",
        "\\n---------------------------------------------\\n \")\r\n",
        "\r\n",
        "while Stock_name != 'IBM'and Stock_name != 'SPY' :\r\n",
        "    Stock_name = input(\"Insert a stock :\")\r\n",
        "\r\n",
        "if  Stock_name == 'IBM':\r\n",
        "    \r\n",
        "    # Κατεβάζουμε τα την μετοχή που θέλουμε από YAHOU, μέσω της  \r\n",
        "    df1 = web.DataReader(\"IBM\",'yahoo',start,stop)\r\n",
        "    df1.to_csv('IBM - Rates.csv')\r\n",
        "    print(\"\\n------- IBM - Rates.csv has been downloaded correctly ! -------\") \r\n",
        "        \r\n",
        "    df1 = pd.read_csv('IBM - Rates.csv',sep=\",\")\r\n",
        "    df1.head() \r\n",
        "\r\n",
        "    df1[\"Day_Var\"] = ((df1[\"Open\"] - df1[\"Close\"]) / df1[\"Open\"])* 100\r\n",
        "\r\n",
        "    writer = pd.ExcelWriter('New Data IBM.xlsx')\r\n",
        "    df1.to_excel(writer, sheet_name = 'Day Var' , index = False)\r\n",
        "    writer.save()    \r\n",
        "     \r\n",
        "    pd.read_excel('New Data IBM.xlsx', index_col=0)\r\n",
        "    df1.head()\r\n",
        "\r\n",
        "elif  Stock_name == 'SPY':\r\n",
        "   \r\n",
        "    df1 = web.DataReader(\"SPY\",'yahoo',start,stop)\r\n",
        "    df1.to_csv('SPY - Rates.csv')\r\n",
        "    print(\"\\n SPY - Rates.csv has been downloaded correctly !!!\")\r\n",
        "     \r\n",
        "    df1 = pd.read_csv('SPY - Rates.csv',sep=\",\")\r\n",
        "    df1.head() \r\n",
        "    \r\n",
        "    df1[\"Day_Var\"] = ((df1[\"Open\"] - df1[\"Close\"]) / df1[\"Open\"])* 100\r\n",
        "\r\n",
        "    writer = pd.ExcelWriter('New Data SPY.xlsx')\r\n",
        "    df1.to_excel(writer, sheet_name = 'Day Var' , index = False)\r\n",
        "    writer.save()    \r\n",
        "     \r\n",
        "    pd.read_excel('New Data SPY.xlsx', index_col=0)\r\n",
        "    df1.head()        \r\n"
      ],
      "execution_count": 11,
      "outputs": [
        {
          "output_type": "stream",
          "text": [
            "\n",
            "---------------------------------------------\n",
            "*** Please fill find below IBM or S&P 500 Stock Rates {1980 - 2020}\n",
            "---------------------------------------------\n",
            " \n",
            "\n",
            " For IBM Rates please write : IBM\n",
            " For S&P500 Rates please write : SPY\n",
            "Insert a Stock - Name :SPY\n",
            "\n",
            "---------------------------------------------\n",
            "*** Please wait few sec for the downloading of the data\n",
            "---------------------------------------------\n",
            " \n",
            "\n",
            " SPY - Rates.csv has been downloaded correctly !!!\n"
          ],
          "name": "stdout"
        }
      ]
    },
    {
      "cell_type": "code",
      "metadata": {
        "colab": {
          "base_uri": "https://localhost:8080/",
          "height": 644
        },
        "id": "xsk6xr00SiTr",
        "outputId": "2c0362e2-a489-4f65-e9ed-7c8ae2be71ae"
      },
      "source": [
        "if Stock_name == \"IBM\":\r\n",
        "    x1 = (10,200)\r\n",
        "    x2 = (-12,200)\r\n",
        "    z1 = 5\r\n",
        "    z2 = 400    \r\n",
        "elif Stock_name == \"SPY\":\r\n",
        "    x1 = (5,200)\r\n",
        "    x2 = (-7.5,200)\r\n",
        "    z1 = -9.5\r\n",
        "    z2 = 400\r\n",
        "\r\n",
        "# Υπολογίζουμε την μέγιστη τιμή του df[\"Day_Var\"]\r\n",
        "xmax = df1[\"Day_Var\"].max()\r\n",
        "xmax\r\n",
        "\r\n",
        "# Υπολογίζουμε την ελάχιστη τιμή του df[\"Day_Var\"]\r\n",
        "xmin = df1[\"Day_Var\"].min()\r\n",
        "xmin\r\n",
        "\r\n",
        "# Υπολογίζουμε τον αριθμό bins που θέλουμε να διαμερίσουμε τα δεδομένα μας\r\n",
        "# Στην περίπτωσή μας θέλουμε να διαμερίσουμε το διάστημα ανά 0.1\r\n",
        "bins = (df1['Day_Var'].max() - df1['Day_Var'].min()) * 10\r\n",
        "bins = int(bins)\r\n",
        "print(\" Η διαμέρηση έχει bins = \",bins)\r\n",
        "\r\n",
        "# Κάνουμε sort-->ascending τα δεδομένα μας σε περίπτωση που έχουμε την ίδια\r\n",
        "# μέγιστη ή ελάχιστη τιμή σε μια ημέρα\r\n",
        "date =df.sort_values(by=['Day_Var','Date'],ascending=False)\r\n",
        "\r\n",
        "# Μέγεθος Διαγράμματος\r\n",
        "plt.figure(figsize=(10,7))\r\n",
        "\r\n",
        "# Εντοπίζουμε την τελευταία μέρα με την μεγαλύτερη & μικρότερη διακύμαση \r\n",
        "max_day = date[:1]\r\n",
        "min_day = date[-1:]\r\n",
        "print(f'\\n H τελευταία μέρα που πουρουσιάστηκε η μεγαλύτερη διακύμαση είχε ημ/νία και τιμή :\\n\\n{max_day}')\r\n",
        "print(f'\\n H τελευταία μέρα που πουρουσιάστηκε η μικρότερη διακύμαση είχε ημ/νία και τιμή :\\n\\n{min_day}')\r\n",
        "\r\n",
        "# Τίτλος Xmin - Xmax στο γράφημα  \r\n",
        "plt.annotate(f'Xmax={round(xmax,3)}', xy=(xmax,0), xytext=x1, fontsize=15,\\\r\n",
        "             arrowprops={'width':0.3,'headwidth':5,'color':'#333333'})\r\n",
        "\r\n",
        "plt.annotate(f'Xmin={round(xmin,3)}', xy=(xmin,0), xytext=x2, fontsize=15,\\\r\n",
        "             arrowprops={'width':0.3,'headwidth':5,'color':'#333333'})\r\n",
        "  \r\n",
        "# Τίτλος Ημερομηνίας στο γράφημα    \r\n",
        "max_day = list(df1.iloc[df1['Day_Var'].argmax()])\r\n",
        "min_day = list(df1.iloc[df1['Day_Var'].argmin()])\r\n",
        "plt.text(z1,z2,\"Last Day MaxVar:\" + max_day[0] +\"\\n\" + \"\\nLast Day MinVar:\"+ min_day[0],fontsize=15)\r\n",
        "\r\n",
        "# Plotting Histogram\r\n",
        "plt.title(f'{Stock_name}' + \" - Histogram\")\r\n",
        "plt.hist(df1['Day_Var'],bins=bins)\r\n",
        "plt.show()\r\n"
      ],
      "execution_count": 12,
      "outputs": [
        {
          "output_type": "stream",
          "text": [
            " Η διαμέρηση έχει bins =  182\n",
            "\n",
            " H τελευταία μέρα που πουρουσιάστηκε η μεγαλύτερη διακύμαση είχε ημ/νία και τιμή :\n",
            "\n",
            "            Date   Open  High   Low    Close  Adj Close    Volume    Day_Var\n",
            "6483  1987-10-19  33.75  34.5  25.0  25.8125   11.62007  25497600  23.518519\n",
            "\n",
            " H τελευταία μέρα που πουρουσιάστηκε η μικρότερη διακύμαση είχε ημ/νία και τιμή :\n",
            "\n",
            "            Date   Open  High    Low   Close  Adj Close    Volume    Day_Var\n",
            "9821  2001-01-03  83.75  95.0  83.75  94.625  59.501057  12769900 -12.985075\n"
          ],
          "name": "stdout"
        },
        {
          "output_type": "display_data",
          "data": {
            "image/png": "[encoded data removed]",
            "text/plain": [
              "<Figure size 720x504 with 1 Axes>"
            ]
          },
          "metadata": {
            "tags": [],
            "needs_background": "light"
          }
        }
      ]
    },
    {
      "cell_type": "code",
      "metadata": {
        "colab": {
          "base_uri": "https://localhost:8080/",
          "height": 459
        },
        "id": "SQyWADSZSkbj",
        "outputId": "71062c76-da95-45ca-c36d-f56d0b5098ad"
      },
      "source": [
        "# Υπολογσιμός Standard Deviation & Mean\r\n",
        "std = np.std(df1['Day_Var'],ddof=1)\r\n",
        "mean = np.mean(df1['Day_Var'])\r\n",
        "\r\n",
        "plt.figure(figsize=(10,7))\r\n",
        "\r\n",
        "# Plotting Normal Distribution and Histogram\r\n",
        "domain = np.linspace(np.min(df1['Day_Var']),np.max(df1['Day_Var']))\r\n",
        "plt.plot(domain,norm.pdf(domain,mean,std))\r\n",
        "plt.hist(df1['Day_Var'], edgecolor = 'black',alpha=0.5,bins=bins, density=True)\r\n",
        "plt.title(f'{Stock_name}' + \" - Normal Fit\")\r\n",
        "plt.xlabel(\"Day_Var\")\r\n",
        "plt.ylabel(\"Density\")\r\n",
        "\r\n",
        "# Title box with blue line\r\n",
        "blue_line = mlines.Line2D([], [], color='blue', marker='',markersize=15,\r\n",
        "                        label= \"\\n\" + '$\\mathcal{N}$ ' +  \r\n",
        "                        f'$( \\mu  \\\\approx {round((mean),5)} , \\\r\n",
        "                           \\sigma  \\\\approx {round((std),5)} )$\\n')\r\n",
        "plt.legend(handles=[blue_line])\r\n",
        "plt.show()\r\n"
      ],
      "execution_count": 13,
      "outputs": [
        {
          "output_type": "display_data",
          "data": {
            "image/png": "[encoded data removed]",
            "text/plain": [
              "<Figure size 720x504 with 1 Axes>"
            ]
          },
          "metadata": {
            "tags": [],
            "needs_background": "light"
          }
        }
      ]
    }
  ]
}